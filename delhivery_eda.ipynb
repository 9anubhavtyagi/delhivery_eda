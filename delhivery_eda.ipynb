{
 "cells": [
  {
   "cell_type": "markdown",
   "metadata": {},
   "source": [
    "# Delhivery - Courier Dataset EDA"
   ]
  },
  {
   "cell_type": "markdown",
   "metadata": {},
   "source": [
    "## About\n",
    "\n",
    "- Delhivery is the largest and fastest-growing fully integrated player in India by revenue in Fiscal 2021. They aim to build the operating system for commerce, through a combination of world-class infrastructure, logistics operations of the highest quality, and cutting-edge engineering and technology capabilities.\n",
    "- The Data team builds intelligence and capabilities using this data that helps them to widen the gap between the quality, efficiency, and profitability of their business versus their competitors."
   ]
  },
  {
   "cell_type": "markdown",
   "metadata": {},
   "source": [
    "## How can you help here?\n",
    "\n",
    "The company wants to understand and process the data coming out of data engineering pipelines:-\n",
    "\n",
    "- Clean, sanitize and manipulate data to get useful features out of raw fields\n",
    "- Make sense out of the raw data and help the data science team to build forecasting models on it"
   ]
  },
  {
   "cell_type": "markdown",
   "metadata": {},
   "source": [
    "# Setup"
   ]
  },
  {
   "cell_type": "markdown",
   "metadata": {},
   "source": [
    "## Imports"
   ]
  },
  {
   "cell_type": "code",
   "execution_count": 1,
   "metadata": {},
   "outputs": [],
   "source": [
    "import numpy as np\n",
    "import pandas as pd\n",
    "import matplotlib.pyplot as plt\n",
    "import seaborn as sns\n",
    "import math"
   ]
  },
  {
   "cell_type": "code",
   "execution_count": 2,
   "metadata": {},
   "outputs": [],
   "source": [
    "from scipy import stats"
   ]
  },
  {
   "cell_type": "markdown",
   "metadata": {},
   "source": [
    "## Dataset"
   ]
  },
  {
   "cell_type": "code",
   "execution_count": 3,
   "metadata": {},
   "outputs": [
    {
     "data": {
      "text/html": [
       "<div>\n",
       "<style scoped>\n",
       "    .dataframe tbody tr th:only-of-type {\n",
       "        vertical-align: middle;\n",
       "    }\n",
       "\n",
       "    .dataframe tbody tr th {\n",
       "        vertical-align: top;\n",
       "    }\n",
       "\n",
       "    .dataframe thead th {\n",
       "        text-align: right;\n",
       "    }\n",
       "</style>\n",
       "<table border=\"1\" class=\"dataframe\">\n",
       "  <thead>\n",
       "    <tr style=\"text-align: right;\">\n",
       "      <th></th>\n",
       "      <th>data</th>\n",
       "      <th>trip_creation_time</th>\n",
       "      <th>route_schedule_uuid</th>\n",
       "      <th>route_type</th>\n",
       "      <th>trip_uuid</th>\n",
       "      <th>source_center</th>\n",
       "      <th>source_name</th>\n",
       "      <th>destination_center</th>\n",
       "      <th>destination_name</th>\n",
       "      <th>od_start_time</th>\n",
       "      <th>...</th>\n",
       "      <th>cutoff_timestamp</th>\n",
       "      <th>actual_distance_to_destination</th>\n",
       "      <th>actual_time</th>\n",
       "      <th>osrm_time</th>\n",
       "      <th>osrm_distance</th>\n",
       "      <th>factor</th>\n",
       "      <th>segment_actual_time</th>\n",
       "      <th>segment_osrm_time</th>\n",
       "      <th>segment_osrm_distance</th>\n",
       "      <th>segment_factor</th>\n",
       "    </tr>\n",
       "  </thead>\n",
       "  <tbody>\n",
       "    <tr>\n",
       "      <th>0</th>\n",
       "      <td>training</td>\n",
       "      <td>2018-09-20 02:35:36.476840</td>\n",
       "      <td>thanos::sroute:eb7bfc78-b351-4c0e-a951-fa3d5c3...</td>\n",
       "      <td>Carting</td>\n",
       "      <td>trip-153741093647649320</td>\n",
       "      <td>IND388121AAA</td>\n",
       "      <td>Anand_VUNagar_DC (Gujarat)</td>\n",
       "      <td>IND388620AAB</td>\n",
       "      <td>Khambhat_MotvdDPP_D (Gujarat)</td>\n",
       "      <td>2018-09-20 03:21:32.418600</td>\n",
       "      <td>...</td>\n",
       "      <td>2018-09-20 04:27:55</td>\n",
       "      <td>10.435660</td>\n",
       "      <td>14.0</td>\n",
       "      <td>11.0</td>\n",
       "      <td>11.9653</td>\n",
       "      <td>1.272727</td>\n",
       "      <td>14.0</td>\n",
       "      <td>11.0</td>\n",
       "      <td>11.9653</td>\n",
       "      <td>1.272727</td>\n",
       "    </tr>\n",
       "    <tr>\n",
       "      <th>1</th>\n",
       "      <td>training</td>\n",
       "      <td>2018-09-20 02:35:36.476840</td>\n",
       "      <td>thanos::sroute:eb7bfc78-b351-4c0e-a951-fa3d5c3...</td>\n",
       "      <td>Carting</td>\n",
       "      <td>trip-153741093647649320</td>\n",
       "      <td>IND388121AAA</td>\n",
       "      <td>Anand_VUNagar_DC (Gujarat)</td>\n",
       "      <td>IND388620AAB</td>\n",
       "      <td>Khambhat_MotvdDPP_D (Gujarat)</td>\n",
       "      <td>2018-09-20 03:21:32.418600</td>\n",
       "      <td>...</td>\n",
       "      <td>2018-09-20 04:17:55</td>\n",
       "      <td>18.936842</td>\n",
       "      <td>24.0</td>\n",
       "      <td>20.0</td>\n",
       "      <td>21.7243</td>\n",
       "      <td>1.200000</td>\n",
       "      <td>10.0</td>\n",
       "      <td>9.0</td>\n",
       "      <td>9.7590</td>\n",
       "      <td>1.111111</td>\n",
       "    </tr>\n",
       "    <tr>\n",
       "      <th>2</th>\n",
       "      <td>training</td>\n",
       "      <td>2018-09-20 02:35:36.476840</td>\n",
       "      <td>thanos::sroute:eb7bfc78-b351-4c0e-a951-fa3d5c3...</td>\n",
       "      <td>Carting</td>\n",
       "      <td>trip-153741093647649320</td>\n",
       "      <td>IND388121AAA</td>\n",
       "      <td>Anand_VUNagar_DC (Gujarat)</td>\n",
       "      <td>IND388620AAB</td>\n",
       "      <td>Khambhat_MotvdDPP_D (Gujarat)</td>\n",
       "      <td>2018-09-20 03:21:32.418600</td>\n",
       "      <td>...</td>\n",
       "      <td>2018-09-20 04:01:19.505586</td>\n",
       "      <td>27.637279</td>\n",
       "      <td>40.0</td>\n",
       "      <td>28.0</td>\n",
       "      <td>32.5395</td>\n",
       "      <td>1.428571</td>\n",
       "      <td>16.0</td>\n",
       "      <td>7.0</td>\n",
       "      <td>10.8152</td>\n",
       "      <td>2.285714</td>\n",
       "    </tr>\n",
       "    <tr>\n",
       "      <th>3</th>\n",
       "      <td>training</td>\n",
       "      <td>2018-09-20 02:35:36.476840</td>\n",
       "      <td>thanos::sroute:eb7bfc78-b351-4c0e-a951-fa3d5c3...</td>\n",
       "      <td>Carting</td>\n",
       "      <td>trip-153741093647649320</td>\n",
       "      <td>IND388121AAA</td>\n",
       "      <td>Anand_VUNagar_DC (Gujarat)</td>\n",
       "      <td>IND388620AAB</td>\n",
       "      <td>Khambhat_MotvdDPP_D (Gujarat)</td>\n",
       "      <td>2018-09-20 03:21:32.418600</td>\n",
       "      <td>...</td>\n",
       "      <td>2018-09-20 03:39:57</td>\n",
       "      <td>36.118028</td>\n",
       "      <td>62.0</td>\n",
       "      <td>40.0</td>\n",
       "      <td>45.5620</td>\n",
       "      <td>1.550000</td>\n",
       "      <td>21.0</td>\n",
       "      <td>12.0</td>\n",
       "      <td>13.0224</td>\n",
       "      <td>1.750000</td>\n",
       "    </tr>\n",
       "    <tr>\n",
       "      <th>4</th>\n",
       "      <td>training</td>\n",
       "      <td>2018-09-20 02:35:36.476840</td>\n",
       "      <td>thanos::sroute:eb7bfc78-b351-4c0e-a951-fa3d5c3...</td>\n",
       "      <td>Carting</td>\n",
       "      <td>trip-153741093647649320</td>\n",
       "      <td>IND388121AAA</td>\n",
       "      <td>Anand_VUNagar_DC (Gujarat)</td>\n",
       "      <td>IND388620AAB</td>\n",
       "      <td>Khambhat_MotvdDPP_D (Gujarat)</td>\n",
       "      <td>2018-09-20 03:21:32.418600</td>\n",
       "      <td>...</td>\n",
       "      <td>2018-09-20 03:33:55</td>\n",
       "      <td>39.386040</td>\n",
       "      <td>68.0</td>\n",
       "      <td>44.0</td>\n",
       "      <td>54.2181</td>\n",
       "      <td>1.545455</td>\n",
       "      <td>6.0</td>\n",
       "      <td>5.0</td>\n",
       "      <td>3.9153</td>\n",
       "      <td>1.200000</td>\n",
       "    </tr>\n",
       "  </tbody>\n",
       "</table>\n",
       "<p>5 rows × 24 columns</p>\n",
       "</div>"
      ],
      "text/plain": [
       "       data          trip_creation_time  \\\n",
       "0  training  2018-09-20 02:35:36.476840   \n",
       "1  training  2018-09-20 02:35:36.476840   \n",
       "2  training  2018-09-20 02:35:36.476840   \n",
       "3  training  2018-09-20 02:35:36.476840   \n",
       "4  training  2018-09-20 02:35:36.476840   \n",
       "\n",
       "                                 route_schedule_uuid route_type  \\\n",
       "0  thanos::sroute:eb7bfc78-b351-4c0e-a951-fa3d5c3...    Carting   \n",
       "1  thanos::sroute:eb7bfc78-b351-4c0e-a951-fa3d5c3...    Carting   \n",
       "2  thanos::sroute:eb7bfc78-b351-4c0e-a951-fa3d5c3...    Carting   \n",
       "3  thanos::sroute:eb7bfc78-b351-4c0e-a951-fa3d5c3...    Carting   \n",
       "4  thanos::sroute:eb7bfc78-b351-4c0e-a951-fa3d5c3...    Carting   \n",
       "\n",
       "                 trip_uuid source_center                 source_name  \\\n",
       "0  trip-153741093647649320  IND388121AAA  Anand_VUNagar_DC (Gujarat)   \n",
       "1  trip-153741093647649320  IND388121AAA  Anand_VUNagar_DC (Gujarat)   \n",
       "2  trip-153741093647649320  IND388121AAA  Anand_VUNagar_DC (Gujarat)   \n",
       "3  trip-153741093647649320  IND388121AAA  Anand_VUNagar_DC (Gujarat)   \n",
       "4  trip-153741093647649320  IND388121AAA  Anand_VUNagar_DC (Gujarat)   \n",
       "\n",
       "  destination_center               destination_name  \\\n",
       "0       IND388620AAB  Khambhat_MotvdDPP_D (Gujarat)   \n",
       "1       IND388620AAB  Khambhat_MotvdDPP_D (Gujarat)   \n",
       "2       IND388620AAB  Khambhat_MotvdDPP_D (Gujarat)   \n",
       "3       IND388620AAB  Khambhat_MotvdDPP_D (Gujarat)   \n",
       "4       IND388620AAB  Khambhat_MotvdDPP_D (Gujarat)   \n",
       "\n",
       "                od_start_time  ...            cutoff_timestamp  \\\n",
       "0  2018-09-20 03:21:32.418600  ...         2018-09-20 04:27:55   \n",
       "1  2018-09-20 03:21:32.418600  ...         2018-09-20 04:17:55   \n",
       "2  2018-09-20 03:21:32.418600  ...  2018-09-20 04:01:19.505586   \n",
       "3  2018-09-20 03:21:32.418600  ...         2018-09-20 03:39:57   \n",
       "4  2018-09-20 03:21:32.418600  ...         2018-09-20 03:33:55   \n",
       "\n",
       "   actual_distance_to_destination  actual_time  osrm_time osrm_distance  \\\n",
       "0                       10.435660         14.0       11.0       11.9653   \n",
       "1                       18.936842         24.0       20.0       21.7243   \n",
       "2                       27.637279         40.0       28.0       32.5395   \n",
       "3                       36.118028         62.0       40.0       45.5620   \n",
       "4                       39.386040         68.0       44.0       54.2181   \n",
       "\n",
       "     factor  segment_actual_time  segment_osrm_time  segment_osrm_distance  \\\n",
       "0  1.272727                 14.0               11.0                11.9653   \n",
       "1  1.200000                 10.0                9.0                 9.7590   \n",
       "2  1.428571                 16.0                7.0                10.8152   \n",
       "3  1.550000                 21.0               12.0                13.0224   \n",
       "4  1.545455                  6.0                5.0                 3.9153   \n",
       "\n",
       "   segment_factor  \n",
       "0        1.272727  \n",
       "1        1.111111  \n",
       "2        2.285714  \n",
       "3        1.750000  \n",
       "4        1.200000  \n",
       "\n",
       "[5 rows x 24 columns]"
      ]
     },
     "execution_count": 3,
     "metadata": {},
     "output_type": "execute_result"
    }
   ],
   "source": [
    "df = pd.read_csv(\"./delhivery_data.csv\")\n",
    "df.head()"
   ]
  },
  {
   "cell_type": "markdown",
   "metadata": {},
   "source": [
    "**`Column Description`**:-\n",
    "\n",
    "- **data** - tells whether the data is testing or training data\n",
    "- **trip_creation_time** – Timestamp of trip creation\n",
    "- **route_schedule_uuid** – Unique Id for a particular route schedule\n",
    "- **route_type** – Transportation type\n",
    "- **FTL** – Full Truck Load: FTL shipments get to the destination sooner, as the truck is making no other pickups or drop-offs along the way\n",
    "- **Carting**: Handling system consisting of small vehicles (carts)\n",
    "- **trip_uuid** - Unique ID given to a particular trip (A trip may include different source and destination centers)\n",
    "- **source_center** - Source ID of trip origin\n",
    "- **source_name** - Source Name of trip origin\n",
    "- **destination_cente** – Destination ID\n",
    "- **destination_name** – Destination Name\n",
    "- **od_start_time** – Trip start time\n",
    "- **od_end_time** – Trip end time\n",
    "- **start_scan_to_end_scan** – Time taken to deliver from source to destination\n",
    "- **is_cutoff** – Unknown field\n",
    "- **cutoff_factor** – Unknown field\n",
    "- **cutoff_timestamp** – Unknown field\n",
    "- **actual_distance_to_destination** – Distance in Kms between source and destination warehouse\n",
    "- **actual_time** – Actual time taken to complete the delivery (Cumulative)\n",
    "- **osrm_time** – An open-source routing engine time calculator which computes the shortest path between points in a given map (Includes usual traffic, distance through major and minor roads) and gives the time (Cumulative)\n",
    "- **osrm_distance** – An open-source routing engine which computes the shortest path between points in a given map (Includes usual traffic, distance through major and minor roads) (Cumulative)\n",
    "- **factor** – Unknown field\n",
    "- **segment_actual_time** – This is a segment time. Time taken by the subset of the package delivery\n",
    "- **segment_osrm_time** – This is the OSRM segment time. Time taken by the subset of the package delivery\n",
    "- **segment_osrm_distance** – This is the OSRM distance. Distance covered by subset of the package delivery\n",
    "- **segment_factor** – Unknown field\n"
   ]
  },
  {
   "cell_type": "markdown",
   "metadata": {},
   "source": [
    "*Dropping Unknown Columns*"
   ]
  },
  {
   "cell_type": "code",
   "execution_count": 4,
   "metadata": {},
   "outputs": [],
   "source": [
    "unknown_columns = [\"is_cutoff\", \"cutoff_factor\", \"cutoff_timestamp\", \"factor\", \"segment_factor\"]\n",
    "df.drop(columns=unknown_columns, inplace=True)"
   ]
  },
  {
   "cell_type": "code",
   "execution_count": 5,
   "metadata": {},
   "outputs": [
    {
     "data": {
      "text/plain": [
       "Index(['data', 'trip_creation_time', 'route_schedule_uuid', 'route_type',\n",
       "       'trip_uuid', 'source_center', 'source_name', 'destination_center',\n",
       "       'destination_name', 'od_start_time', 'od_end_time',\n",
       "       'start_scan_to_end_scan', 'actual_distance_to_destination',\n",
       "       'actual_time', 'osrm_time', 'osrm_distance', 'segment_actual_time',\n",
       "       'segment_osrm_time', 'segment_osrm_distance'],\n",
       "      dtype='object')"
      ]
     },
     "execution_count": 5,
     "metadata": {},
     "output_type": "execute_result"
    }
   ],
   "source": [
    "df.columns"
   ]
  },
  {
   "cell_type": "markdown",
   "metadata": {},
   "source": [
    "# Data Preprocessing"
   ]
  },
  {
   "cell_type": "markdown",
   "metadata": {},
   "source": [
    "## Basic Checks"
   ]
  },
  {
   "cell_type": "code",
   "execution_count": 6,
   "metadata": {},
   "outputs": [
    {
     "data": {
      "text/html": [
       "<div>\n",
       "<style scoped>\n",
       "    .dataframe tbody tr th:only-of-type {\n",
       "        vertical-align: middle;\n",
       "    }\n",
       "\n",
       "    .dataframe tbody tr th {\n",
       "        vertical-align: top;\n",
       "    }\n",
       "\n",
       "    .dataframe thead th {\n",
       "        text-align: right;\n",
       "    }\n",
       "</style>\n",
       "<table border=\"1\" class=\"dataframe\">\n",
       "  <thead>\n",
       "    <tr style=\"text-align: right;\">\n",
       "      <th></th>\n",
       "      <th>data</th>\n",
       "      <th>trip_creation_time</th>\n",
       "      <th>route_schedule_uuid</th>\n",
       "      <th>route_type</th>\n",
       "      <th>trip_uuid</th>\n",
       "      <th>source_center</th>\n",
       "      <th>source_name</th>\n",
       "      <th>destination_center</th>\n",
       "      <th>destination_name</th>\n",
       "      <th>od_start_time</th>\n",
       "      <th>od_end_time</th>\n",
       "      <th>start_scan_to_end_scan</th>\n",
       "      <th>actual_distance_to_destination</th>\n",
       "      <th>actual_time</th>\n",
       "      <th>osrm_time</th>\n",
       "      <th>osrm_distance</th>\n",
       "      <th>segment_actual_time</th>\n",
       "      <th>segment_osrm_time</th>\n",
       "      <th>segment_osrm_distance</th>\n",
       "    </tr>\n",
       "  </thead>\n",
       "  <tbody>\n",
       "    <tr>\n",
       "      <th>0</th>\n",
       "      <td>training</td>\n",
       "      <td>2018-09-20 02:35:36.476840</td>\n",
       "      <td>thanos::sroute:eb7bfc78-b351-4c0e-a951-fa3d5c3...</td>\n",
       "      <td>Carting</td>\n",
       "      <td>trip-153741093647649320</td>\n",
       "      <td>IND388121AAA</td>\n",
       "      <td>Anand_VUNagar_DC (Gujarat)</td>\n",
       "      <td>IND388620AAB</td>\n",
       "      <td>Khambhat_MotvdDPP_D (Gujarat)</td>\n",
       "      <td>2018-09-20 03:21:32.418600</td>\n",
       "      <td>2018-09-20 04:47:45.236797</td>\n",
       "      <td>86.0</td>\n",
       "      <td>10.435660</td>\n",
       "      <td>14.0</td>\n",
       "      <td>11.0</td>\n",
       "      <td>11.9653</td>\n",
       "      <td>14.0</td>\n",
       "      <td>11.0</td>\n",
       "      <td>11.9653</td>\n",
       "    </tr>\n",
       "    <tr>\n",
       "      <th>1</th>\n",
       "      <td>training</td>\n",
       "      <td>2018-09-20 02:35:36.476840</td>\n",
       "      <td>thanos::sroute:eb7bfc78-b351-4c0e-a951-fa3d5c3...</td>\n",
       "      <td>Carting</td>\n",
       "      <td>trip-153741093647649320</td>\n",
       "      <td>IND388121AAA</td>\n",
       "      <td>Anand_VUNagar_DC (Gujarat)</td>\n",
       "      <td>IND388620AAB</td>\n",
       "      <td>Khambhat_MotvdDPP_D (Gujarat)</td>\n",
       "      <td>2018-09-20 03:21:32.418600</td>\n",
       "      <td>2018-09-20 04:47:45.236797</td>\n",
       "      <td>86.0</td>\n",
       "      <td>18.936842</td>\n",
       "      <td>24.0</td>\n",
       "      <td>20.0</td>\n",
       "      <td>21.7243</td>\n",
       "      <td>10.0</td>\n",
       "      <td>9.0</td>\n",
       "      <td>9.7590</td>\n",
       "    </tr>\n",
       "    <tr>\n",
       "      <th>2</th>\n",
       "      <td>training</td>\n",
       "      <td>2018-09-20 02:35:36.476840</td>\n",
       "      <td>thanos::sroute:eb7bfc78-b351-4c0e-a951-fa3d5c3...</td>\n",
       "      <td>Carting</td>\n",
       "      <td>trip-153741093647649320</td>\n",
       "      <td>IND388121AAA</td>\n",
       "      <td>Anand_VUNagar_DC (Gujarat)</td>\n",
       "      <td>IND388620AAB</td>\n",
       "      <td>Khambhat_MotvdDPP_D (Gujarat)</td>\n",
       "      <td>2018-09-20 03:21:32.418600</td>\n",
       "      <td>2018-09-20 04:47:45.236797</td>\n",
       "      <td>86.0</td>\n",
       "      <td>27.637279</td>\n",
       "      <td>40.0</td>\n",
       "      <td>28.0</td>\n",
       "      <td>32.5395</td>\n",
       "      <td>16.0</td>\n",
       "      <td>7.0</td>\n",
       "      <td>10.8152</td>\n",
       "    </tr>\n",
       "    <tr>\n",
       "      <th>3</th>\n",
       "      <td>training</td>\n",
       "      <td>2018-09-20 02:35:36.476840</td>\n",
       "      <td>thanos::sroute:eb7bfc78-b351-4c0e-a951-fa3d5c3...</td>\n",
       "      <td>Carting</td>\n",
       "      <td>trip-153741093647649320</td>\n",
       "      <td>IND388121AAA</td>\n",
       "      <td>Anand_VUNagar_DC (Gujarat)</td>\n",
       "      <td>IND388620AAB</td>\n",
       "      <td>Khambhat_MotvdDPP_D (Gujarat)</td>\n",
       "      <td>2018-09-20 03:21:32.418600</td>\n",
       "      <td>2018-09-20 04:47:45.236797</td>\n",
       "      <td>86.0</td>\n",
       "      <td>36.118028</td>\n",
       "      <td>62.0</td>\n",
       "      <td>40.0</td>\n",
       "      <td>45.5620</td>\n",
       "      <td>21.0</td>\n",
       "      <td>12.0</td>\n",
       "      <td>13.0224</td>\n",
       "    </tr>\n",
       "    <tr>\n",
       "      <th>4</th>\n",
       "      <td>training</td>\n",
       "      <td>2018-09-20 02:35:36.476840</td>\n",
       "      <td>thanos::sroute:eb7bfc78-b351-4c0e-a951-fa3d5c3...</td>\n",
       "      <td>Carting</td>\n",
       "      <td>trip-153741093647649320</td>\n",
       "      <td>IND388121AAA</td>\n",
       "      <td>Anand_VUNagar_DC (Gujarat)</td>\n",
       "      <td>IND388620AAB</td>\n",
       "      <td>Khambhat_MotvdDPP_D (Gujarat)</td>\n",
       "      <td>2018-09-20 03:21:32.418600</td>\n",
       "      <td>2018-09-20 04:47:45.236797</td>\n",
       "      <td>86.0</td>\n",
       "      <td>39.386040</td>\n",
       "      <td>68.0</td>\n",
       "      <td>44.0</td>\n",
       "      <td>54.2181</td>\n",
       "      <td>6.0</td>\n",
       "      <td>5.0</td>\n",
       "      <td>3.9153</td>\n",
       "    </tr>\n",
       "  </tbody>\n",
       "</table>\n",
       "</div>"
      ],
      "text/plain": [
       "       data          trip_creation_time  \\\n",
       "0  training  2018-09-20 02:35:36.476840   \n",
       "1  training  2018-09-20 02:35:36.476840   \n",
       "2  training  2018-09-20 02:35:36.476840   \n",
       "3  training  2018-09-20 02:35:36.476840   \n",
       "4  training  2018-09-20 02:35:36.476840   \n",
       "\n",
       "                                 route_schedule_uuid route_type  \\\n",
       "0  thanos::sroute:eb7bfc78-b351-4c0e-a951-fa3d5c3...    Carting   \n",
       "1  thanos::sroute:eb7bfc78-b351-4c0e-a951-fa3d5c3...    Carting   \n",
       "2  thanos::sroute:eb7bfc78-b351-4c0e-a951-fa3d5c3...    Carting   \n",
       "3  thanos::sroute:eb7bfc78-b351-4c0e-a951-fa3d5c3...    Carting   \n",
       "4  thanos::sroute:eb7bfc78-b351-4c0e-a951-fa3d5c3...    Carting   \n",
       "\n",
       "                 trip_uuid source_center                 source_name  \\\n",
       "0  trip-153741093647649320  IND388121AAA  Anand_VUNagar_DC (Gujarat)   \n",
       "1  trip-153741093647649320  IND388121AAA  Anand_VUNagar_DC (Gujarat)   \n",
       "2  trip-153741093647649320  IND388121AAA  Anand_VUNagar_DC (Gujarat)   \n",
       "3  trip-153741093647649320  IND388121AAA  Anand_VUNagar_DC (Gujarat)   \n",
       "4  trip-153741093647649320  IND388121AAA  Anand_VUNagar_DC (Gujarat)   \n",
       "\n",
       "  destination_center               destination_name  \\\n",
       "0       IND388620AAB  Khambhat_MotvdDPP_D (Gujarat)   \n",
       "1       IND388620AAB  Khambhat_MotvdDPP_D (Gujarat)   \n",
       "2       IND388620AAB  Khambhat_MotvdDPP_D (Gujarat)   \n",
       "3       IND388620AAB  Khambhat_MotvdDPP_D (Gujarat)   \n",
       "4       IND388620AAB  Khambhat_MotvdDPP_D (Gujarat)   \n",
       "\n",
       "                od_start_time                 od_end_time  \\\n",
       "0  2018-09-20 03:21:32.418600  2018-09-20 04:47:45.236797   \n",
       "1  2018-09-20 03:21:32.418600  2018-09-20 04:47:45.236797   \n",
       "2  2018-09-20 03:21:32.418600  2018-09-20 04:47:45.236797   \n",
       "3  2018-09-20 03:21:32.418600  2018-09-20 04:47:45.236797   \n",
       "4  2018-09-20 03:21:32.418600  2018-09-20 04:47:45.236797   \n",
       "\n",
       "   start_scan_to_end_scan  actual_distance_to_destination  actual_time  \\\n",
       "0                    86.0                       10.435660         14.0   \n",
       "1                    86.0                       18.936842         24.0   \n",
       "2                    86.0                       27.637279         40.0   \n",
       "3                    86.0                       36.118028         62.0   \n",
       "4                    86.0                       39.386040         68.0   \n",
       "\n",
       "   osrm_time  osrm_distance  segment_actual_time  segment_osrm_time  \\\n",
       "0       11.0        11.9653                 14.0               11.0   \n",
       "1       20.0        21.7243                 10.0                9.0   \n",
       "2       28.0        32.5395                 16.0                7.0   \n",
       "3       40.0        45.5620                 21.0               12.0   \n",
       "4       44.0        54.2181                  6.0                5.0   \n",
       "\n",
       "   segment_osrm_distance  \n",
       "0                11.9653  \n",
       "1                 9.7590  \n",
       "2                10.8152  \n",
       "3                13.0224  \n",
       "4                 3.9153  "
      ]
     },
     "execution_count": 6,
     "metadata": {},
     "output_type": "execute_result"
    }
   ],
   "source": [
    "df.head()"
   ]
  },
  {
   "cell_type": "code",
   "execution_count": 7,
   "metadata": {},
   "outputs": [
    {
     "data": {
      "text/plain": [
       "(144867, 19)"
      ]
     },
     "execution_count": 7,
     "metadata": {},
     "output_type": "execute_result"
    }
   ],
   "source": [
    "df.shape"
   ]
  },
  {
   "cell_type": "code",
   "execution_count": 8,
   "metadata": {},
   "outputs": [
    {
     "data": {
      "text/plain": [
       "data                                0\n",
       "trip_creation_time                  0\n",
       "route_schedule_uuid                 0\n",
       "route_type                          0\n",
       "trip_uuid                           0\n",
       "source_center                       0\n",
       "source_name                       293\n",
       "destination_center                  0\n",
       "destination_name                  261\n",
       "od_start_time                       0\n",
       "od_end_time                         0\n",
       "start_scan_to_end_scan              0\n",
       "actual_distance_to_destination      0\n",
       "actual_time                         0\n",
       "osrm_time                           0\n",
       "osrm_distance                       0\n",
       "segment_actual_time                 0\n",
       "segment_osrm_time                   0\n",
       "segment_osrm_distance               0\n",
       "dtype: int64"
      ]
     },
     "execution_count": 8,
     "metadata": {},
     "output_type": "execute_result"
    }
   ],
   "source": [
    "df.isna().sum()"
   ]
  },
  {
   "cell_type": "code",
   "execution_count": 9,
   "metadata": {},
   "outputs": [
    {
     "name": "stdout",
     "output_type": "stream",
     "text": [
      "<class 'pandas.core.frame.DataFrame'>\n",
      "RangeIndex: 144867 entries, 0 to 144866\n",
      "Data columns (total 19 columns):\n",
      " #   Column                          Non-Null Count   Dtype  \n",
      "---  ------                          --------------   -----  \n",
      " 0   data                            144867 non-null  object \n",
      " 1   trip_creation_time              144867 non-null  object \n",
      " 2   route_schedule_uuid             144867 non-null  object \n",
      " 3   route_type                      144867 non-null  object \n",
      " 4   trip_uuid                       144867 non-null  object \n",
      " 5   source_center                   144867 non-null  object \n",
      " 6   source_name                     144574 non-null  object \n",
      " 7   destination_center              144867 non-null  object \n",
      " 8   destination_name                144606 non-null  object \n",
      " 9   od_start_time                   144867 non-null  object \n",
      " 10  od_end_time                     144867 non-null  object \n",
      " 11  start_scan_to_end_scan          144867 non-null  float64\n",
      " 12  actual_distance_to_destination  144867 non-null  float64\n",
      " 13  actual_time                     144867 non-null  float64\n",
      " 14  osrm_time                       144867 non-null  float64\n",
      " 15  osrm_distance                   144867 non-null  float64\n",
      " 16  segment_actual_time             144867 non-null  float64\n",
      " 17  segment_osrm_time               144867 non-null  float64\n",
      " 18  segment_osrm_distance           144867 non-null  float64\n",
      "dtypes: float64(8), object(11)\n",
      "memory usage: 21.0+ MB\n"
     ]
    }
   ],
   "source": [
    "df.info()"
   ]
  },
  {
   "cell_type": "markdown",
   "metadata": {},
   "source": [
    "*Convert dtype of time columns to pandas.Datetime format*"
   ]
  },
  {
   "cell_type": "code",
   "execution_count": 10,
   "metadata": {},
   "outputs": [],
   "source": [
    "df['od_start_time'] = pd.to_datetime(df['od_start_time'])\n",
    "df['od_end_time'] = pd.to_datetime(df['od_end_time'])\n",
    "df['trip_creation_time'] = pd.to_datetime(df['trip_creation_time'])"
   ]
  },
  {
   "cell_type": "markdown",
   "metadata": {},
   "source": [
    "## Compressing dataset so that a trip has single row in the dataset"
   ]
  },
  {
   "cell_type": "code",
   "execution_count": 11,
   "metadata": {},
   "outputs": [
    {
     "data": {
      "text/html": [
       "<div>\n",
       "<style scoped>\n",
       "    .dataframe tbody tr th:only-of-type {\n",
       "        vertical-align: middle;\n",
       "    }\n",
       "\n",
       "    .dataframe tbody tr th {\n",
       "        vertical-align: top;\n",
       "    }\n",
       "\n",
       "    .dataframe thead th {\n",
       "        text-align: right;\n",
       "    }\n",
       "</style>\n",
       "<table border=\"1\" class=\"dataframe\">\n",
       "  <thead>\n",
       "    <tr style=\"text-align: right;\">\n",
       "      <th></th>\n",
       "      <th>trip_uuid</th>\n",
       "      <th>source_name</th>\n",
       "      <th>destination_name</th>\n",
       "    </tr>\n",
       "  </thead>\n",
       "  <tbody>\n",
       "    <tr>\n",
       "      <th>0</th>\n",
       "      <td>trip-153741093647649320</td>\n",
       "      <td>Anand_VUNagar_DC (Gujarat)</td>\n",
       "      <td>Khambhat_MotvdDPP_D (Gujarat)</td>\n",
       "    </tr>\n",
       "    <tr>\n",
       "      <th>1</th>\n",
       "      <td>trip-153741093647649320</td>\n",
       "      <td>Anand_VUNagar_DC (Gujarat)</td>\n",
       "      <td>Khambhat_MotvdDPP_D (Gujarat)</td>\n",
       "    </tr>\n",
       "    <tr>\n",
       "      <th>2</th>\n",
       "      <td>trip-153741093647649320</td>\n",
       "      <td>Anand_VUNagar_DC (Gujarat)</td>\n",
       "      <td>Khambhat_MotvdDPP_D (Gujarat)</td>\n",
       "    </tr>\n",
       "    <tr>\n",
       "      <th>3</th>\n",
       "      <td>trip-153741093647649320</td>\n",
       "      <td>Anand_VUNagar_DC (Gujarat)</td>\n",
       "      <td>Khambhat_MotvdDPP_D (Gujarat)</td>\n",
       "    </tr>\n",
       "    <tr>\n",
       "      <th>4</th>\n",
       "      <td>trip-153741093647649320</td>\n",
       "      <td>Anand_VUNagar_DC (Gujarat)</td>\n",
       "      <td>Khambhat_MotvdDPP_D (Gujarat)</td>\n",
       "    </tr>\n",
       "    <tr>\n",
       "      <th>5</th>\n",
       "      <td>trip-153741093647649320</td>\n",
       "      <td>Khambhat_MotvdDPP_D (Gujarat)</td>\n",
       "      <td>Anand_Vaghasi_IP (Gujarat)</td>\n",
       "    </tr>\n",
       "    <tr>\n",
       "      <th>6</th>\n",
       "      <td>trip-153741093647649320</td>\n",
       "      <td>Khambhat_MotvdDPP_D (Gujarat)</td>\n",
       "      <td>Anand_Vaghasi_IP (Gujarat)</td>\n",
       "    </tr>\n",
       "    <tr>\n",
       "      <th>7</th>\n",
       "      <td>trip-153741093647649320</td>\n",
       "      <td>Khambhat_MotvdDPP_D (Gujarat)</td>\n",
       "      <td>Anand_Vaghasi_IP (Gujarat)</td>\n",
       "    </tr>\n",
       "    <tr>\n",
       "      <th>8</th>\n",
       "      <td>trip-153741093647649320</td>\n",
       "      <td>Khambhat_MotvdDPP_D (Gujarat)</td>\n",
       "      <td>Anand_Vaghasi_IP (Gujarat)</td>\n",
       "    </tr>\n",
       "    <tr>\n",
       "      <th>9</th>\n",
       "      <td>trip-153741093647649320</td>\n",
       "      <td>Khambhat_MotvdDPP_D (Gujarat)</td>\n",
       "      <td>Anand_Vaghasi_IP (Gujarat)</td>\n",
       "    </tr>\n",
       "    <tr>\n",
       "      <th>10</th>\n",
       "      <td>trip-153768492602129387</td>\n",
       "      <td>Bhiwandi_Mankoli_HB (Maharashtra)</td>\n",
       "      <td>Pune_Tathawde_H (Maharashtra)</td>\n",
       "    </tr>\n",
       "    <tr>\n",
       "      <th>11</th>\n",
       "      <td>trip-153768492602129387</td>\n",
       "      <td>Bhiwandi_Mankoli_HB (Maharashtra)</td>\n",
       "      <td>Pune_Tathawde_H (Maharashtra)</td>\n",
       "    </tr>\n",
       "    <tr>\n",
       "      <th>12</th>\n",
       "      <td>trip-153768492602129387</td>\n",
       "      <td>Bhiwandi_Mankoli_HB (Maharashtra)</td>\n",
       "      <td>Pune_Tathawde_H (Maharashtra)</td>\n",
       "    </tr>\n",
       "    <tr>\n",
       "      <th>13</th>\n",
       "      <td>trip-153768492602129387</td>\n",
       "      <td>Bhiwandi_Mankoli_HB (Maharashtra)</td>\n",
       "      <td>Pune_Tathawde_H (Maharashtra)</td>\n",
       "    </tr>\n",
       "    <tr>\n",
       "      <th>14</th>\n",
       "      <td>trip-153768492602129387</td>\n",
       "      <td>Bhiwandi_Mankoli_HB (Maharashtra)</td>\n",
       "      <td>Pune_Tathawde_H (Maharashtra)</td>\n",
       "    </tr>\n",
       "    <tr>\n",
       "      <th>15</th>\n",
       "      <td>trip-153693976643699843</td>\n",
       "      <td>LowerParel_CP (Maharashtra)</td>\n",
       "      <td>Mumbai_Chndivli_PC (Maharashtra)</td>\n",
       "    </tr>\n",
       "    <tr>\n",
       "      <th>16</th>\n",
       "      <td>trip-153693976643699843</td>\n",
       "      <td>LowerParel_CP (Maharashtra)</td>\n",
       "      <td>Mumbai_Chndivli_PC (Maharashtra)</td>\n",
       "    </tr>\n",
       "    <tr>\n",
       "      <th>17</th>\n",
       "      <td>trip-153687145942424248</td>\n",
       "      <td>Bangalore_Nelmngla_H (Karnataka)</td>\n",
       "      <td>Bengaluru_Bomsndra_HB (Karnataka)</td>\n",
       "    </tr>\n",
       "    <tr>\n",
       "      <th>18</th>\n",
       "      <td>trip-153687145942424248</td>\n",
       "      <td>Bangalore_Nelmngla_H (Karnataka)</td>\n",
       "      <td>Bengaluru_Bomsndra_HB (Karnataka)</td>\n",
       "    </tr>\n",
       "    <tr>\n",
       "      <th>19</th>\n",
       "      <td>trip-153687145942424248</td>\n",
       "      <td>Bengaluru_Bomsndra_HB (Karnataka)</td>\n",
       "      <td>Aluva_Peedika_H (Kerala)</td>\n",
       "    </tr>\n",
       "  </tbody>\n",
       "</table>\n",
       "</div>"
      ],
      "text/plain": [
       "                  trip_uuid                        source_name  \\\n",
       "0   trip-153741093647649320         Anand_VUNagar_DC (Gujarat)   \n",
       "1   trip-153741093647649320         Anand_VUNagar_DC (Gujarat)   \n",
       "2   trip-153741093647649320         Anand_VUNagar_DC (Gujarat)   \n",
       "3   trip-153741093647649320         Anand_VUNagar_DC (Gujarat)   \n",
       "4   trip-153741093647649320         Anand_VUNagar_DC (Gujarat)   \n",
       "5   trip-153741093647649320      Khambhat_MotvdDPP_D (Gujarat)   \n",
       "6   trip-153741093647649320      Khambhat_MotvdDPP_D (Gujarat)   \n",
       "7   trip-153741093647649320      Khambhat_MotvdDPP_D (Gujarat)   \n",
       "8   trip-153741093647649320      Khambhat_MotvdDPP_D (Gujarat)   \n",
       "9   trip-153741093647649320      Khambhat_MotvdDPP_D (Gujarat)   \n",
       "10  trip-153768492602129387  Bhiwandi_Mankoli_HB (Maharashtra)   \n",
       "11  trip-153768492602129387  Bhiwandi_Mankoli_HB (Maharashtra)   \n",
       "12  trip-153768492602129387  Bhiwandi_Mankoli_HB (Maharashtra)   \n",
       "13  trip-153768492602129387  Bhiwandi_Mankoli_HB (Maharashtra)   \n",
       "14  trip-153768492602129387  Bhiwandi_Mankoli_HB (Maharashtra)   \n",
       "15  trip-153693976643699843        LowerParel_CP (Maharashtra)   \n",
       "16  trip-153693976643699843        LowerParel_CP (Maharashtra)   \n",
       "17  trip-153687145942424248   Bangalore_Nelmngla_H (Karnataka)   \n",
       "18  trip-153687145942424248   Bangalore_Nelmngla_H (Karnataka)   \n",
       "19  trip-153687145942424248  Bengaluru_Bomsndra_HB (Karnataka)   \n",
       "\n",
       "                     destination_name  \n",
       "0       Khambhat_MotvdDPP_D (Gujarat)  \n",
       "1       Khambhat_MotvdDPP_D (Gujarat)  \n",
       "2       Khambhat_MotvdDPP_D (Gujarat)  \n",
       "3       Khambhat_MotvdDPP_D (Gujarat)  \n",
       "4       Khambhat_MotvdDPP_D (Gujarat)  \n",
       "5          Anand_Vaghasi_IP (Gujarat)  \n",
       "6          Anand_Vaghasi_IP (Gujarat)  \n",
       "7          Anand_Vaghasi_IP (Gujarat)  \n",
       "8          Anand_Vaghasi_IP (Gujarat)  \n",
       "9          Anand_Vaghasi_IP (Gujarat)  \n",
       "10      Pune_Tathawde_H (Maharashtra)  \n",
       "11      Pune_Tathawde_H (Maharashtra)  \n",
       "12      Pune_Tathawde_H (Maharashtra)  \n",
       "13      Pune_Tathawde_H (Maharashtra)  \n",
       "14      Pune_Tathawde_H (Maharashtra)  \n",
       "15   Mumbai_Chndivli_PC (Maharashtra)  \n",
       "16   Mumbai_Chndivli_PC (Maharashtra)  \n",
       "17  Bengaluru_Bomsndra_HB (Karnataka)  \n",
       "18  Bengaluru_Bomsndra_HB (Karnataka)  \n",
       "19           Aluva_Peedika_H (Kerala)  "
      ]
     },
     "execution_count": 11,
     "metadata": {},
     "output_type": "execute_result"
    }
   ],
   "source": [
    "df[[\"trip_uuid\", \"source_name\", \"destination_name\"]].head(20)"
   ]
  },
  {
   "cell_type": "markdown",
   "metadata": {},
   "source": [
    "Note:-\n",
    "\n",
    "1. There are more than 1 rows (typically 10 rows) of data for one single trip\n",
    "2. For the first few segments of a trip - source_name is the pickup location, destination_name is the central-hub of that trip.\n",
    "3. Similarly for the last few segments of a trip - central-hub of the trip is source and delivery location is the destination.\n",
    "\n",
    "What to do:-\n",
    "1. These outcomes suggest that for each trip data is collected at minute level.\n",
    "2. So there is a need to compress this amount of data to a single row."
   ]
  },
  {
   "cell_type": "markdown",
   "metadata": {},
   "source": [
    "### **Grouping data based on the segment key**\n",
    "- `segment_key = trip_uuid + source_center + destination_center`\n",
    "- This key will help to compress multiple rows to a single row. i.e., first half and second half of a trip separately.\n"
   ]
  },
  {
   "cell_type": "code",
   "execution_count": 12,
   "metadata": {},
   "outputs": [],
   "source": [
    "df['segment_key'] = df['trip_uuid'] + df['source_center'] + df['destination_center']"
   ]
  },
  {
   "cell_type": "code",
   "execution_count": 13,
   "metadata": {},
   "outputs": [],
   "source": [
    "segment_agg_dict = {\n",
    "\n",
    "    'data' : 'first',\n",
    "    'trip_creation_time': 'first',\n",
    "    'route_schedule_uuid' : 'first',\n",
    "    'route_type' : 'first',\n",
    "    'trip_uuid' : 'first',\n",
    "    'source_center' : 'first',\n",
    "    'source_name' : 'first',\n",
    "\n",
    "    'destination_center' : 'last',\n",
    "    'destination_name' : 'last',\n",
    "\n",
    "    'od_start_time' : 'first',\n",
    "    'od_end_time' : 'first',\n",
    "    'start_scan_to_end_scan' : 'first',\n",
    "\n",
    "\n",
    "    'actual_distance_to_destination' : 'last',\n",
    "    'actual_time' : 'last',\n",
    "\n",
    "    'osrm_time' : 'last',\n",
    "    'osrm_distance' : 'last',\n",
    "\n",
    "    'segment_actual_time' : 'sum',\n",
    "    'segment_osrm_distance' : 'sum',\n",
    "    'segment_osrm_time' : 'sum',\n",
    "\n",
    "    }"
   ]
  },
  {
   "cell_type": "code",
   "execution_count": 14,
   "metadata": {},
   "outputs": [
    {
     "data": {
      "text/html": [
       "<div>\n",
       "<style scoped>\n",
       "    .dataframe tbody tr th:only-of-type {\n",
       "        vertical-align: middle;\n",
       "    }\n",
       "\n",
       "    .dataframe tbody tr th {\n",
       "        vertical-align: top;\n",
       "    }\n",
       "\n",
       "    .dataframe thead th {\n",
       "        text-align: right;\n",
       "    }\n",
       "</style>\n",
       "<table border=\"1\" class=\"dataframe\">\n",
       "  <thead>\n",
       "    <tr style=\"text-align: right;\">\n",
       "      <th></th>\n",
       "      <th>data</th>\n",
       "      <th>trip_creation_time</th>\n",
       "      <th>route_schedule_uuid</th>\n",
       "      <th>route_type</th>\n",
       "      <th>trip_uuid</th>\n",
       "      <th>source_center</th>\n",
       "      <th>source_name</th>\n",
       "      <th>destination_center</th>\n",
       "      <th>destination_name</th>\n",
       "      <th>od_start_time</th>\n",
       "      <th>od_end_time</th>\n",
       "      <th>start_scan_to_end_scan</th>\n",
       "      <th>actual_distance_to_destination</th>\n",
       "      <th>actual_time</th>\n",
       "      <th>osrm_time</th>\n",
       "      <th>osrm_distance</th>\n",
       "      <th>segment_actual_time</th>\n",
       "      <th>segment_osrm_distance</th>\n",
       "      <th>segment_osrm_time</th>\n",
       "    </tr>\n",
       "  </thead>\n",
       "  <tbody>\n",
       "    <tr>\n",
       "      <th>0</th>\n",
       "      <td>training</td>\n",
       "      <td>2018-09-12 00:00:16.535741</td>\n",
       "      <td>thanos::sroute:d7c989ba-a29b-4a0b-b2f4-288cdc6...</td>\n",
       "      <td>FTL</td>\n",
       "      <td>trip-153671041653548748</td>\n",
       "      <td>IND462022AAA</td>\n",
       "      <td>Bhopal_Trnsport_H (Madhya Pradesh)</td>\n",
       "      <td>IND209304AAA</td>\n",
       "      <td>Kanpur_Central_H_6 (Uttar Pradesh)</td>\n",
       "      <td>2018-09-12 00:00:16.535741</td>\n",
       "      <td>2018-09-12 16:39:46.858469</td>\n",
       "      <td>999.0</td>\n",
       "      <td>440.973689</td>\n",
       "      <td>830.0</td>\n",
       "      <td>388.0</td>\n",
       "      <td>544.8027</td>\n",
       "      <td>820.0</td>\n",
       "      <td>649.8528</td>\n",
       "      <td>474.0</td>\n",
       "    </tr>\n",
       "    <tr>\n",
       "      <th>1</th>\n",
       "      <td>training</td>\n",
       "      <td>2018-09-12 00:00:16.535741</td>\n",
       "      <td>thanos::sroute:d7c989ba-a29b-4a0b-b2f4-288cdc6...</td>\n",
       "      <td>FTL</td>\n",
       "      <td>trip-153671041653548748</td>\n",
       "      <td>IND209304AAA</td>\n",
       "      <td>Kanpur_Central_H_6 (Uttar Pradesh)</td>\n",
       "      <td>IND000000ACB</td>\n",
       "      <td>Gurgaon_Bilaspur_HB (Haryana)</td>\n",
       "      <td>2018-09-12 16:39:46.858469</td>\n",
       "      <td>2018-09-13 13:40:23.123744</td>\n",
       "      <td>1260.0</td>\n",
       "      <td>383.759164</td>\n",
       "      <td>732.0</td>\n",
       "      <td>329.0</td>\n",
       "      <td>446.5496</td>\n",
       "      <td>728.0</td>\n",
       "      <td>670.6205</td>\n",
       "      <td>534.0</td>\n",
       "    </tr>\n",
       "    <tr>\n",
       "      <th>2</th>\n",
       "      <td>training</td>\n",
       "      <td>2018-09-12 00:00:22.886430</td>\n",
       "      <td>thanos::sroute:3a1b0ab2-bb0b-4c53-8c59-eb2a2c0...</td>\n",
       "      <td>Carting</td>\n",
       "      <td>trip-153671042288605164</td>\n",
       "      <td>IND572101AAA</td>\n",
       "      <td>Tumkur_Veersagr_I (Karnataka)</td>\n",
       "      <td>IND561203AAB</td>\n",
       "      <td>Doddablpur_ChikaDPP_D (Karnataka)</td>\n",
       "      <td>2018-09-12 00:00:22.886430</td>\n",
       "      <td>2018-09-12 02:03:09.655591</td>\n",
       "      <td>122.0</td>\n",
       "      <td>48.542890</td>\n",
       "      <td>96.0</td>\n",
       "      <td>42.0</td>\n",
       "      <td>56.9116</td>\n",
       "      <td>95.0</td>\n",
       "      <td>55.9899</td>\n",
       "      <td>39.0</td>\n",
       "    </tr>\n",
       "    <tr>\n",
       "      <th>3</th>\n",
       "      <td>training</td>\n",
       "      <td>2018-09-12 00:00:22.886430</td>\n",
       "      <td>thanos::sroute:3a1b0ab2-bb0b-4c53-8c59-eb2a2c0...</td>\n",
       "      <td>Carting</td>\n",
       "      <td>trip-153671042288605164</td>\n",
       "      <td>IND561203AAB</td>\n",
       "      <td>Doddablpur_ChikaDPP_D (Karnataka)</td>\n",
       "      <td>IND562101AAA</td>\n",
       "      <td>Chikblapur_ShntiSgr_D (Karnataka)</td>\n",
       "      <td>2018-09-12 02:03:09.655591</td>\n",
       "      <td>2018-09-12 03:01:59.598855</td>\n",
       "      <td>58.0</td>\n",
       "      <td>24.644021</td>\n",
       "      <td>47.0</td>\n",
       "      <td>26.0</td>\n",
       "      <td>28.1994</td>\n",
       "      <td>46.0</td>\n",
       "      <td>28.1995</td>\n",
       "      <td>26.0</td>\n",
       "    </tr>\n",
       "    <tr>\n",
       "      <th>4</th>\n",
       "      <td>training</td>\n",
       "      <td>2018-09-12 00:00:33.691250</td>\n",
       "      <td>thanos::sroute:de5e208e-7641-45e6-8100-4d9fb1e...</td>\n",
       "      <td>FTL</td>\n",
       "      <td>trip-153671043369099517</td>\n",
       "      <td>IND562132AAA</td>\n",
       "      <td>Bangalore_Nelmngla_H (Karnataka)</td>\n",
       "      <td>IND000000ACB</td>\n",
       "      <td>Gurgaon_Bilaspur_HB (Haryana)</td>\n",
       "      <td>2018-09-12 00:00:33.691250</td>\n",
       "      <td>2018-09-14 03:40:17.106733</td>\n",
       "      <td>3099.0</td>\n",
       "      <td>1689.964663</td>\n",
       "      <td>2736.0</td>\n",
       "      <td>1528.0</td>\n",
       "      <td>2072.8556</td>\n",
       "      <td>2700.0</td>\n",
       "      <td>2227.5270</td>\n",
       "      <td>1710.0</td>\n",
       "    </tr>\n",
       "  </tbody>\n",
       "</table>\n",
       "</div>"
      ],
      "text/plain": [
       "       data         trip_creation_time  \\\n",
       "0  training 2018-09-12 00:00:16.535741   \n",
       "1  training 2018-09-12 00:00:16.535741   \n",
       "2  training 2018-09-12 00:00:22.886430   \n",
       "3  training 2018-09-12 00:00:22.886430   \n",
       "4  training 2018-09-12 00:00:33.691250   \n",
       "\n",
       "                                 route_schedule_uuid route_type  \\\n",
       "0  thanos::sroute:d7c989ba-a29b-4a0b-b2f4-288cdc6...        FTL   \n",
       "1  thanos::sroute:d7c989ba-a29b-4a0b-b2f4-288cdc6...        FTL   \n",
       "2  thanos::sroute:3a1b0ab2-bb0b-4c53-8c59-eb2a2c0...    Carting   \n",
       "3  thanos::sroute:3a1b0ab2-bb0b-4c53-8c59-eb2a2c0...    Carting   \n",
       "4  thanos::sroute:de5e208e-7641-45e6-8100-4d9fb1e...        FTL   \n",
       "\n",
       "                 trip_uuid source_center                         source_name  \\\n",
       "0  trip-153671041653548748  IND462022AAA  Bhopal_Trnsport_H (Madhya Pradesh)   \n",
       "1  trip-153671041653548748  IND209304AAA  Kanpur_Central_H_6 (Uttar Pradesh)   \n",
       "2  trip-153671042288605164  IND572101AAA       Tumkur_Veersagr_I (Karnataka)   \n",
       "3  trip-153671042288605164  IND561203AAB   Doddablpur_ChikaDPP_D (Karnataka)   \n",
       "4  trip-153671043369099517  IND562132AAA    Bangalore_Nelmngla_H (Karnataka)   \n",
       "\n",
       "  destination_center                    destination_name  \\\n",
       "0       IND209304AAA  Kanpur_Central_H_6 (Uttar Pradesh)   \n",
       "1       IND000000ACB       Gurgaon_Bilaspur_HB (Haryana)   \n",
       "2       IND561203AAB   Doddablpur_ChikaDPP_D (Karnataka)   \n",
       "3       IND562101AAA   Chikblapur_ShntiSgr_D (Karnataka)   \n",
       "4       IND000000ACB       Gurgaon_Bilaspur_HB (Haryana)   \n",
       "\n",
       "               od_start_time                od_end_time  \\\n",
       "0 2018-09-12 00:00:16.535741 2018-09-12 16:39:46.858469   \n",
       "1 2018-09-12 16:39:46.858469 2018-09-13 13:40:23.123744   \n",
       "2 2018-09-12 00:00:22.886430 2018-09-12 02:03:09.655591   \n",
       "3 2018-09-12 02:03:09.655591 2018-09-12 03:01:59.598855   \n",
       "4 2018-09-12 00:00:33.691250 2018-09-14 03:40:17.106733   \n",
       "\n",
       "   start_scan_to_end_scan  actual_distance_to_destination  actual_time  \\\n",
       "0                   999.0                      440.973689        830.0   \n",
       "1                  1260.0                      383.759164        732.0   \n",
       "2                   122.0                       48.542890         96.0   \n",
       "3                    58.0                       24.644021         47.0   \n",
       "4                  3099.0                     1689.964663       2736.0   \n",
       "\n",
       "   osrm_time  osrm_distance  segment_actual_time  segment_osrm_distance  \\\n",
       "0      388.0       544.8027                820.0               649.8528   \n",
       "1      329.0       446.5496                728.0               670.6205   \n",
       "2       42.0        56.9116                 95.0                55.9899   \n",
       "3       26.0        28.1994                 46.0                28.1995   \n",
       "4     1528.0      2072.8556               2700.0              2227.5270   \n",
       "\n",
       "   segment_osrm_time  \n",
       "0              474.0  \n",
       "1              534.0  \n",
       "2               39.0  \n",
       "3               26.0  \n",
       "4             1710.0  "
      ]
     },
     "execution_count": 14,
     "metadata": {},
     "output_type": "execute_result"
    }
   ],
   "source": [
    "segment = df.groupby('segment_key').agg(segment_agg_dict).reset_index(drop=True) # compressing 5 rows to 1 row\n",
    "segment = segment.sort_values(by=['trip_uuid', 'od_end_time'], ascending= True).reset_index(drop=True) # order by trip_uuid and od_end_time\n",
    "segment.head()"
   ]
  },
  {
   "cell_type": "code",
   "execution_count": 15,
   "metadata": {},
   "outputs": [
    {
     "data": {
      "text/html": [
       "<div>\n",
       "<style scoped>\n",
       "    .dataframe tbody tr th:only-of-type {\n",
       "        vertical-align: middle;\n",
       "    }\n",
       "\n",
       "    .dataframe tbody tr th {\n",
       "        vertical-align: top;\n",
       "    }\n",
       "\n",
       "    .dataframe thead th {\n",
       "        text-align: right;\n",
       "    }\n",
       "</style>\n",
       "<table border=\"1\" class=\"dataframe\">\n",
       "  <thead>\n",
       "    <tr style=\"text-align: right;\">\n",
       "      <th></th>\n",
       "      <th>data</th>\n",
       "      <th>trip_creation_time</th>\n",
       "      <th>route_schedule_uuid</th>\n",
       "      <th>route_type</th>\n",
       "      <th>trip_uuid</th>\n",
       "      <th>source_center</th>\n",
       "      <th>source_name</th>\n",
       "      <th>destination_center</th>\n",
       "      <th>destination_name</th>\n",
       "      <th>od_start_time</th>\n",
       "      <th>od_end_time</th>\n",
       "      <th>start_scan_to_end_scan</th>\n",
       "      <th>actual_distance_to_destination</th>\n",
       "      <th>actual_time</th>\n",
       "      <th>osrm_time</th>\n",
       "      <th>osrm_distance</th>\n",
       "      <th>segment_actual_time</th>\n",
       "      <th>segment_osrm_distance</th>\n",
       "      <th>segment_osrm_time</th>\n",
       "    </tr>\n",
       "  </thead>\n",
       "  <tbody>\n",
       "    <tr>\n",
       "      <th>0</th>\n",
       "      <td>training</td>\n",
       "      <td>2018-09-12 00:00:16.535741</td>\n",
       "      <td>thanos::sroute:d7c989ba-a29b-4a0b-b2f4-288cdc6...</td>\n",
       "      <td>FTL</td>\n",
       "      <td>trip-153671041653548748</td>\n",
       "      <td>IND462022AAA</td>\n",
       "      <td>Bhopal_Trnsport_H (Madhya Pradesh)</td>\n",
       "      <td>IND209304AAA</td>\n",
       "      <td>Kanpur_Central_H_6 (Uttar Pradesh)</td>\n",
       "      <td>2018-09-12 00:00:16.535741</td>\n",
       "      <td>2018-09-12 16:39:46.858469</td>\n",
       "      <td>999.0</td>\n",
       "      <td>440.973689</td>\n",
       "      <td>830.0</td>\n",
       "      <td>388.0</td>\n",
       "      <td>544.8027</td>\n",
       "      <td>820.0</td>\n",
       "      <td>649.8528</td>\n",
       "      <td>474.0</td>\n",
       "    </tr>\n",
       "    <tr>\n",
       "      <th>1</th>\n",
       "      <td>training</td>\n",
       "      <td>2018-09-12 00:00:16.535741</td>\n",
       "      <td>thanos::sroute:d7c989ba-a29b-4a0b-b2f4-288cdc6...</td>\n",
       "      <td>FTL</td>\n",
       "      <td>trip-153671041653548748</td>\n",
       "      <td>IND209304AAA</td>\n",
       "      <td>Kanpur_Central_H_6 (Uttar Pradesh)</td>\n",
       "      <td>IND000000ACB</td>\n",
       "      <td>Gurgaon_Bilaspur_HB (Haryana)</td>\n",
       "      <td>2018-09-12 16:39:46.858469</td>\n",
       "      <td>2018-09-13 13:40:23.123744</td>\n",
       "      <td>1260.0</td>\n",
       "      <td>383.759164</td>\n",
       "      <td>732.0</td>\n",
       "      <td>329.0</td>\n",
       "      <td>446.5496</td>\n",
       "      <td>728.0</td>\n",
       "      <td>670.6205</td>\n",
       "      <td>534.0</td>\n",
       "    </tr>\n",
       "  </tbody>\n",
       "</table>\n",
       "</div>"
      ],
      "text/plain": [
       "       data         trip_creation_time  \\\n",
       "0  training 2018-09-12 00:00:16.535741   \n",
       "1  training 2018-09-12 00:00:16.535741   \n",
       "\n",
       "                                 route_schedule_uuid route_type  \\\n",
       "0  thanos::sroute:d7c989ba-a29b-4a0b-b2f4-288cdc6...        FTL   \n",
       "1  thanos::sroute:d7c989ba-a29b-4a0b-b2f4-288cdc6...        FTL   \n",
       "\n",
       "                 trip_uuid source_center                         source_name  \\\n",
       "0  trip-153671041653548748  IND462022AAA  Bhopal_Trnsport_H (Madhya Pradesh)   \n",
       "1  trip-153671041653548748  IND209304AAA  Kanpur_Central_H_6 (Uttar Pradesh)   \n",
       "\n",
       "  destination_center                    destination_name  \\\n",
       "0       IND209304AAA  Kanpur_Central_H_6 (Uttar Pradesh)   \n",
       "1       IND000000ACB       Gurgaon_Bilaspur_HB (Haryana)   \n",
       "\n",
       "               od_start_time                od_end_time  \\\n",
       "0 2018-09-12 00:00:16.535741 2018-09-12 16:39:46.858469   \n",
       "1 2018-09-12 16:39:46.858469 2018-09-13 13:40:23.123744   \n",
       "\n",
       "   start_scan_to_end_scan  actual_distance_to_destination  actual_time  \\\n",
       "0                   999.0                      440.973689        830.0   \n",
       "1                  1260.0                      383.759164        732.0   \n",
       "\n",
       "   osrm_time  osrm_distance  segment_actual_time  segment_osrm_distance  \\\n",
       "0      388.0       544.8027                820.0               649.8528   \n",
       "1      329.0       446.5496                728.0               670.6205   \n",
       "\n",
       "   segment_osrm_time  \n",
       "0              474.0  \n",
       "1              534.0  "
      ]
     },
     "execution_count": 15,
     "metadata": {},
     "output_type": "execute_result"
    }
   ],
   "source": [
    "segment.loc[segment['trip_uuid'] == \"trip-153671041653548748\"]"
   ]
  },
  {
   "cell_type": "code",
   "execution_count": 16,
   "metadata": {},
   "outputs": [
    {
     "name": "stdout",
     "output_type": "stream",
     "text": [
      "<class 'pandas.core.frame.DataFrame'>\n",
      "RangeIndex: 26368 entries, 0 to 26367\n",
      "Data columns (total 19 columns):\n",
      " #   Column                          Non-Null Count  Dtype         \n",
      "---  ------                          --------------  -----         \n",
      " 0   data                            26368 non-null  object        \n",
      " 1   trip_creation_time              26368 non-null  datetime64[ns]\n",
      " 2   route_schedule_uuid             26368 non-null  object        \n",
      " 3   route_type                      26368 non-null  object        \n",
      " 4   trip_uuid                       26368 non-null  object        \n",
      " 5   source_center                   26368 non-null  object        \n",
      " 6   source_name                     26302 non-null  object        \n",
      " 7   destination_center              26368 non-null  object        \n",
      " 8   destination_name                26287 non-null  object        \n",
      " 9   od_start_time                   26368 non-null  datetime64[ns]\n",
      " 10  od_end_time                     26368 non-null  datetime64[ns]\n",
      " 11  start_scan_to_end_scan          26368 non-null  float64       \n",
      " 12  actual_distance_to_destination  26368 non-null  float64       \n",
      " 13  actual_time                     26368 non-null  float64       \n",
      " 14  osrm_time                       26368 non-null  float64       \n",
      " 15  osrm_distance                   26368 non-null  float64       \n",
      " 16  segment_actual_time             26368 non-null  float64       \n",
      " 17  segment_osrm_distance           26368 non-null  float64       \n",
      " 18  segment_osrm_time               26368 non-null  float64       \n",
      "dtypes: datetime64[ns](3), float64(8), object(8)\n",
      "memory usage: 3.8+ MB\n"
     ]
    }
   ],
   "source": [
    "segment.info()"
   ]
  },
  {
   "cell_type": "markdown",
   "metadata": {},
   "source": [
    "### **Grouping data based on the trip_uuid**\n",
    "- This step will help to merge first half and second half of a trip to a single row."
   ]
  },
  {
   "cell_type": "code",
   "execution_count": 17,
   "metadata": {},
   "outputs": [],
   "source": [
    "trip_agg_dict = {\n",
    "\n",
    "    'data' : 'first',\n",
    "    'trip_creation_time': 'first',\n",
    "    'route_schedule_uuid' : 'first',\n",
    "    'route_type' : 'first',\n",
    "    'trip_uuid' : 'first',\n",
    "\n",
    "    'source_center' : 'first',\n",
    "    'source_name' : 'first',\n",
    "\n",
    "    'destination_center' : 'last',\n",
    "    'destination_name' : 'last',\n",
    "\n",
    "    'start_scan_to_end_scan' : 'sum',\n",
    "    'od_start_time': 'first',\n",
    "    'od_end_time' : 'last',\n",
    "\n",
    "    'actual_distance_to_destination' : 'sum',\n",
    "    'actual_time' : 'sum',\n",
    "    'osrm_time' : 'sum',\n",
    "    'osrm_distance' : 'sum',\n",
    "\n",
    "    'segment_actual_time' : 'sum',\n",
    "    'segment_osrm_time' : 'sum',\n",
    "    'segment_osrm_distance' : 'sum',\n",
    "\n",
    "    }"
   ]
  },
  {
   "cell_type": "code",
   "execution_count": 18,
   "metadata": {},
   "outputs": [
    {
     "data": {
      "text/html": [
       "<div>\n",
       "<style scoped>\n",
       "    .dataframe tbody tr th:only-of-type {\n",
       "        vertical-align: middle;\n",
       "    }\n",
       "\n",
       "    .dataframe tbody tr th {\n",
       "        vertical-align: top;\n",
       "    }\n",
       "\n",
       "    .dataframe thead th {\n",
       "        text-align: right;\n",
       "    }\n",
       "</style>\n",
       "<table border=\"1\" class=\"dataframe\">\n",
       "  <thead>\n",
       "    <tr style=\"text-align: right;\">\n",
       "      <th></th>\n",
       "      <th>data</th>\n",
       "      <th>trip_creation_time</th>\n",
       "      <th>route_schedule_uuid</th>\n",
       "      <th>route_type</th>\n",
       "      <th>trip_uuid</th>\n",
       "      <th>source_center</th>\n",
       "      <th>source_name</th>\n",
       "      <th>destination_center</th>\n",
       "      <th>destination_name</th>\n",
       "      <th>start_scan_to_end_scan</th>\n",
       "      <th>od_start_time</th>\n",
       "      <th>od_end_time</th>\n",
       "      <th>actual_distance_to_destination</th>\n",
       "      <th>actual_time</th>\n",
       "      <th>osrm_time</th>\n",
       "      <th>osrm_distance</th>\n",
       "      <th>segment_actual_time</th>\n",
       "      <th>segment_osrm_time</th>\n",
       "      <th>segment_osrm_distance</th>\n",
       "    </tr>\n",
       "  </thead>\n",
       "  <tbody>\n",
       "    <tr>\n",
       "      <th>0</th>\n",
       "      <td>training</td>\n",
       "      <td>2018-09-12 00:00:16.535741</td>\n",
       "      <td>thanos::sroute:d7c989ba-a29b-4a0b-b2f4-288cdc6...</td>\n",
       "      <td>FTL</td>\n",
       "      <td>trip-153671041653548748</td>\n",
       "      <td>IND462022AAA</td>\n",
       "      <td>Bhopal_Trnsport_H (Madhya Pradesh)</td>\n",
       "      <td>IND000000ACB</td>\n",
       "      <td>Gurgaon_Bilaspur_HB (Haryana)</td>\n",
       "      <td>2259.0</td>\n",
       "      <td>2018-09-12 00:00:16.535741</td>\n",
       "      <td>2018-09-13 13:40:23.123744</td>\n",
       "      <td>824.732854</td>\n",
       "      <td>1562.0</td>\n",
       "      <td>717.0</td>\n",
       "      <td>991.3523</td>\n",
       "      <td>1548.0</td>\n",
       "      <td>1008.0</td>\n",
       "      <td>1320.4733</td>\n",
       "    </tr>\n",
       "    <tr>\n",
       "      <th>1</th>\n",
       "      <td>training</td>\n",
       "      <td>2018-09-12 00:00:22.886430</td>\n",
       "      <td>thanos::sroute:3a1b0ab2-bb0b-4c53-8c59-eb2a2c0...</td>\n",
       "      <td>Carting</td>\n",
       "      <td>trip-153671042288605164</td>\n",
       "      <td>IND572101AAA</td>\n",
       "      <td>Tumkur_Veersagr_I (Karnataka)</td>\n",
       "      <td>IND562101AAA</td>\n",
       "      <td>Chikblapur_ShntiSgr_D (Karnataka)</td>\n",
       "      <td>180.0</td>\n",
       "      <td>2018-09-12 00:00:22.886430</td>\n",
       "      <td>2018-09-12 03:01:59.598855</td>\n",
       "      <td>73.186911</td>\n",
       "      <td>143.0</td>\n",
       "      <td>68.0</td>\n",
       "      <td>85.1110</td>\n",
       "      <td>141.0</td>\n",
       "      <td>65.0</td>\n",
       "      <td>84.1894</td>\n",
       "    </tr>\n",
       "    <tr>\n",
       "      <th>2</th>\n",
       "      <td>training</td>\n",
       "      <td>2018-09-12 00:00:33.691250</td>\n",
       "      <td>thanos::sroute:de5e208e-7641-45e6-8100-4d9fb1e...</td>\n",
       "      <td>FTL</td>\n",
       "      <td>trip-153671043369099517</td>\n",
       "      <td>IND562132AAA</td>\n",
       "      <td>Bangalore_Nelmngla_H (Karnataka)</td>\n",
       "      <td>IND160002AAC</td>\n",
       "      <td>Chandigarh_Mehmdpur_H (Punjab)</td>\n",
       "      <td>3933.0</td>\n",
       "      <td>2018-09-12 00:00:33.691250</td>\n",
       "      <td>2018-09-14 17:34:55.442454</td>\n",
       "      <td>1927.404273</td>\n",
       "      <td>3347.0</td>\n",
       "      <td>1740.0</td>\n",
       "      <td>2354.0665</td>\n",
       "      <td>3308.0</td>\n",
       "      <td>1941.0</td>\n",
       "      <td>2545.2678</td>\n",
       "    </tr>\n",
       "    <tr>\n",
       "      <th>3</th>\n",
       "      <td>training</td>\n",
       "      <td>2018-09-12 00:01:00.113710</td>\n",
       "      <td>thanos::sroute:f0176492-a679-4597-8332-bbd1c7f...</td>\n",
       "      <td>Carting</td>\n",
       "      <td>trip-153671046011330457</td>\n",
       "      <td>IND400072AAB</td>\n",
       "      <td>Mumbai Hub (Maharashtra)</td>\n",
       "      <td>IND401104AAA</td>\n",
       "      <td>Mumbai_MiraRd_IP (Maharashtra)</td>\n",
       "      <td>100.0</td>\n",
       "      <td>2018-09-12 00:01:00.113710</td>\n",
       "      <td>2018-09-12 01:41:29.809822</td>\n",
       "      <td>17.175274</td>\n",
       "      <td>59.0</td>\n",
       "      <td>15.0</td>\n",
       "      <td>19.6800</td>\n",
       "      <td>59.0</td>\n",
       "      <td>16.0</td>\n",
       "      <td>19.8766</td>\n",
       "    </tr>\n",
       "    <tr>\n",
       "      <th>4</th>\n",
       "      <td>training</td>\n",
       "      <td>2018-09-12 00:02:09.740725</td>\n",
       "      <td>thanos::sroute:d9f07b12-65e0-4f3b-bec8-df06134...</td>\n",
       "      <td>FTL</td>\n",
       "      <td>trip-153671052974046625</td>\n",
       "      <td>IND583101AAA</td>\n",
       "      <td>Bellary_Dc (Karnataka)</td>\n",
       "      <td>IND583101AAA</td>\n",
       "      <td>Bellary_Dc (Karnataka)</td>\n",
       "      <td>717.0</td>\n",
       "      <td>2018-09-12 00:02:09.740725</td>\n",
       "      <td>2018-09-12 12:00:30.683231</td>\n",
       "      <td>127.448500</td>\n",
       "      <td>341.0</td>\n",
       "      <td>117.0</td>\n",
       "      <td>146.7918</td>\n",
       "      <td>340.0</td>\n",
       "      <td>115.0</td>\n",
       "      <td>146.7919</td>\n",
       "    </tr>\n",
       "  </tbody>\n",
       "</table>\n",
       "</div>"
      ],
      "text/plain": [
       "       data         trip_creation_time  \\\n",
       "0  training 2018-09-12 00:00:16.535741   \n",
       "1  training 2018-09-12 00:00:22.886430   \n",
       "2  training 2018-09-12 00:00:33.691250   \n",
       "3  training 2018-09-12 00:01:00.113710   \n",
       "4  training 2018-09-12 00:02:09.740725   \n",
       "\n",
       "                                 route_schedule_uuid route_type  \\\n",
       "0  thanos::sroute:d7c989ba-a29b-4a0b-b2f4-288cdc6...        FTL   \n",
       "1  thanos::sroute:3a1b0ab2-bb0b-4c53-8c59-eb2a2c0...    Carting   \n",
       "2  thanos::sroute:de5e208e-7641-45e6-8100-4d9fb1e...        FTL   \n",
       "3  thanos::sroute:f0176492-a679-4597-8332-bbd1c7f...    Carting   \n",
       "4  thanos::sroute:d9f07b12-65e0-4f3b-bec8-df06134...        FTL   \n",
       "\n",
       "                 trip_uuid source_center                         source_name  \\\n",
       "0  trip-153671041653548748  IND462022AAA  Bhopal_Trnsport_H (Madhya Pradesh)   \n",
       "1  trip-153671042288605164  IND572101AAA       Tumkur_Veersagr_I (Karnataka)   \n",
       "2  trip-153671043369099517  IND562132AAA    Bangalore_Nelmngla_H (Karnataka)   \n",
       "3  trip-153671046011330457  IND400072AAB            Mumbai Hub (Maharashtra)   \n",
       "4  trip-153671052974046625  IND583101AAA              Bellary_Dc (Karnataka)   \n",
       "\n",
       "  destination_center                   destination_name  \\\n",
       "0       IND000000ACB      Gurgaon_Bilaspur_HB (Haryana)   \n",
       "1       IND562101AAA  Chikblapur_ShntiSgr_D (Karnataka)   \n",
       "2       IND160002AAC     Chandigarh_Mehmdpur_H (Punjab)   \n",
       "3       IND401104AAA     Mumbai_MiraRd_IP (Maharashtra)   \n",
       "4       IND583101AAA             Bellary_Dc (Karnataka)   \n",
       "\n",
       "   start_scan_to_end_scan              od_start_time  \\\n",
       "0                  2259.0 2018-09-12 00:00:16.535741   \n",
       "1                   180.0 2018-09-12 00:00:22.886430   \n",
       "2                  3933.0 2018-09-12 00:00:33.691250   \n",
       "3                   100.0 2018-09-12 00:01:00.113710   \n",
       "4                   717.0 2018-09-12 00:02:09.740725   \n",
       "\n",
       "                 od_end_time  actual_distance_to_destination  actual_time  \\\n",
       "0 2018-09-13 13:40:23.123744                      824.732854       1562.0   \n",
       "1 2018-09-12 03:01:59.598855                       73.186911        143.0   \n",
       "2 2018-09-14 17:34:55.442454                     1927.404273       3347.0   \n",
       "3 2018-09-12 01:41:29.809822                       17.175274         59.0   \n",
       "4 2018-09-12 12:00:30.683231                      127.448500        341.0   \n",
       "\n",
       "   osrm_time  osrm_distance  segment_actual_time  segment_osrm_time  \\\n",
       "0      717.0       991.3523               1548.0             1008.0   \n",
       "1       68.0        85.1110                141.0               65.0   \n",
       "2     1740.0      2354.0665               3308.0             1941.0   \n",
       "3       15.0        19.6800                 59.0               16.0   \n",
       "4      117.0       146.7918                340.0              115.0   \n",
       "\n",
       "   segment_osrm_distance  \n",
       "0              1320.4733  \n",
       "1                84.1894  \n",
       "2              2545.2678  \n",
       "3                19.8766  \n",
       "4               146.7919  "
      ]
     },
     "execution_count": 18,
     "metadata": {},
     "output_type": "execute_result"
    }
   ],
   "source": [
    "trip = segment.groupby(\"trip_uuid\").agg(trip_agg_dict).reset_index(drop=True)\n",
    "trip.head()"
   ]
  },
  {
   "cell_type": "code",
   "execution_count": 19,
   "metadata": {},
   "outputs": [
    {
     "data": {
      "text/plain": [
       "data                               0\n",
       "trip_creation_time                 0\n",
       "route_schedule_uuid                0\n",
       "route_type                         0\n",
       "trip_uuid                          0\n",
       "source_center                      0\n",
       "source_name                       10\n",
       "destination_center                 0\n",
       "destination_name                   8\n",
       "start_scan_to_end_scan             0\n",
       "od_start_time                      0\n",
       "od_end_time                        0\n",
       "actual_distance_to_destination     0\n",
       "actual_time                        0\n",
       "osrm_time                          0\n",
       "osrm_distance                      0\n",
       "segment_actual_time                0\n",
       "segment_osrm_time                  0\n",
       "segment_osrm_distance              0\n",
       "dtype: int64"
      ]
     },
     "execution_count": 19,
     "metadata": {},
     "output_type": "execute_result"
    }
   ],
   "source": [
    "trip.isna().sum()"
   ]
  },
  {
   "cell_type": "markdown",
   "metadata": {},
   "source": [
    "dropping rows with null values (as removing null values won't impact the dataset by much)"
   ]
  },
  {
   "cell_type": "code",
   "execution_count": 20,
   "metadata": {},
   "outputs": [
    {
     "data": {
      "text/plain": [
       "(14800, 19)"
      ]
     },
     "execution_count": 20,
     "metadata": {},
     "output_type": "execute_result"
    }
   ],
   "source": [
    "trip.dropna(inplace=True)\n",
    "trip.shape"
   ]
  },
  {
   "cell_type": "code",
   "execution_count": 21,
   "metadata": {},
   "outputs": [
    {
     "data": {
      "text/plain": [
       "0"
      ]
     },
     "execution_count": 21,
     "metadata": {},
     "output_type": "execute_result"
    }
   ],
   "source": [
    "trip.duplicated().sum()"
   ]
  },
  {
   "cell_type": "code",
   "execution_count": 22,
   "metadata": {},
   "outputs": [],
   "source": [
    "trip.reset_index(drop=True, inplace=True)"
   ]
  },
  {
   "cell_type": "markdown",
   "metadata": {},
   "source": [
    "## Few more Checks on trip dataset."
   ]
  },
  {
   "cell_type": "code",
   "execution_count": 23,
   "metadata": {},
   "outputs": [
    {
     "data": {
      "text/html": [
       "<div>\n",
       "<style scoped>\n",
       "    .dataframe tbody tr th:only-of-type {\n",
       "        vertical-align: middle;\n",
       "    }\n",
       "\n",
       "    .dataframe tbody tr th {\n",
       "        vertical-align: top;\n",
       "    }\n",
       "\n",
       "    .dataframe thead th {\n",
       "        text-align: right;\n",
       "    }\n",
       "</style>\n",
       "<table border=\"1\" class=\"dataframe\">\n",
       "  <thead>\n",
       "    <tr style=\"text-align: right;\">\n",
       "      <th></th>\n",
       "      <th>data</th>\n",
       "      <th>trip_creation_time</th>\n",
       "      <th>route_schedule_uuid</th>\n",
       "      <th>route_type</th>\n",
       "      <th>trip_uuid</th>\n",
       "      <th>source_center</th>\n",
       "      <th>source_name</th>\n",
       "      <th>destination_center</th>\n",
       "      <th>destination_name</th>\n",
       "      <th>start_scan_to_end_scan</th>\n",
       "      <th>od_start_time</th>\n",
       "      <th>od_end_time</th>\n",
       "      <th>actual_distance_to_destination</th>\n",
       "      <th>actual_time</th>\n",
       "      <th>osrm_time</th>\n",
       "      <th>osrm_distance</th>\n",
       "      <th>segment_actual_time</th>\n",
       "      <th>segment_osrm_time</th>\n",
       "      <th>segment_osrm_distance</th>\n",
       "    </tr>\n",
       "  </thead>\n",
       "  <tbody>\n",
       "    <tr>\n",
       "      <th>0</th>\n",
       "      <td>training</td>\n",
       "      <td>2018-09-12 00:00:16.535741</td>\n",
       "      <td>thanos::sroute:d7c989ba-a29b-4a0b-b2f4-288cdc6...</td>\n",
       "      <td>FTL</td>\n",
       "      <td>trip-153671041653548748</td>\n",
       "      <td>IND462022AAA</td>\n",
       "      <td>Bhopal_Trnsport_H (Madhya Pradesh)</td>\n",
       "      <td>IND000000ACB</td>\n",
       "      <td>Gurgaon_Bilaspur_HB (Haryana)</td>\n",
       "      <td>2259.0</td>\n",
       "      <td>2018-09-12 00:00:16.535741</td>\n",
       "      <td>2018-09-13 13:40:23.123744</td>\n",
       "      <td>824.732854</td>\n",
       "      <td>1562.0</td>\n",
       "      <td>717.0</td>\n",
       "      <td>991.3523</td>\n",
       "      <td>1548.0</td>\n",
       "      <td>1008.0</td>\n",
       "      <td>1320.4733</td>\n",
       "    </tr>\n",
       "    <tr>\n",
       "      <th>1</th>\n",
       "      <td>training</td>\n",
       "      <td>2018-09-12 00:00:22.886430</td>\n",
       "      <td>thanos::sroute:3a1b0ab2-bb0b-4c53-8c59-eb2a2c0...</td>\n",
       "      <td>Carting</td>\n",
       "      <td>trip-153671042288605164</td>\n",
       "      <td>IND572101AAA</td>\n",
       "      <td>Tumkur_Veersagr_I (Karnataka)</td>\n",
       "      <td>IND562101AAA</td>\n",
       "      <td>Chikblapur_ShntiSgr_D (Karnataka)</td>\n",
       "      <td>180.0</td>\n",
       "      <td>2018-09-12 00:00:22.886430</td>\n",
       "      <td>2018-09-12 03:01:59.598855</td>\n",
       "      <td>73.186911</td>\n",
       "      <td>143.0</td>\n",
       "      <td>68.0</td>\n",
       "      <td>85.1110</td>\n",
       "      <td>141.0</td>\n",
       "      <td>65.0</td>\n",
       "      <td>84.1894</td>\n",
       "    </tr>\n",
       "    <tr>\n",
       "      <th>2</th>\n",
       "      <td>training</td>\n",
       "      <td>2018-09-12 00:00:33.691250</td>\n",
       "      <td>thanos::sroute:de5e208e-7641-45e6-8100-4d9fb1e...</td>\n",
       "      <td>FTL</td>\n",
       "      <td>trip-153671043369099517</td>\n",
       "      <td>IND562132AAA</td>\n",
       "      <td>Bangalore_Nelmngla_H (Karnataka)</td>\n",
       "      <td>IND160002AAC</td>\n",
       "      <td>Chandigarh_Mehmdpur_H (Punjab)</td>\n",
       "      <td>3933.0</td>\n",
       "      <td>2018-09-12 00:00:33.691250</td>\n",
       "      <td>2018-09-14 17:34:55.442454</td>\n",
       "      <td>1927.404273</td>\n",
       "      <td>3347.0</td>\n",
       "      <td>1740.0</td>\n",
       "      <td>2354.0665</td>\n",
       "      <td>3308.0</td>\n",
       "      <td>1941.0</td>\n",
       "      <td>2545.2678</td>\n",
       "    </tr>\n",
       "    <tr>\n",
       "      <th>3</th>\n",
       "      <td>training</td>\n",
       "      <td>2018-09-12 00:01:00.113710</td>\n",
       "      <td>thanos::sroute:f0176492-a679-4597-8332-bbd1c7f...</td>\n",
       "      <td>Carting</td>\n",
       "      <td>trip-153671046011330457</td>\n",
       "      <td>IND400072AAB</td>\n",
       "      <td>Mumbai Hub (Maharashtra)</td>\n",
       "      <td>IND401104AAA</td>\n",
       "      <td>Mumbai_MiraRd_IP (Maharashtra)</td>\n",
       "      <td>100.0</td>\n",
       "      <td>2018-09-12 00:01:00.113710</td>\n",
       "      <td>2018-09-12 01:41:29.809822</td>\n",
       "      <td>17.175274</td>\n",
       "      <td>59.0</td>\n",
       "      <td>15.0</td>\n",
       "      <td>19.6800</td>\n",
       "      <td>59.0</td>\n",
       "      <td>16.0</td>\n",
       "      <td>19.8766</td>\n",
       "    </tr>\n",
       "    <tr>\n",
       "      <th>4</th>\n",
       "      <td>training</td>\n",
       "      <td>2018-09-12 00:02:09.740725</td>\n",
       "      <td>thanos::sroute:d9f07b12-65e0-4f3b-bec8-df06134...</td>\n",
       "      <td>FTL</td>\n",
       "      <td>trip-153671052974046625</td>\n",
       "      <td>IND583101AAA</td>\n",
       "      <td>Bellary_Dc (Karnataka)</td>\n",
       "      <td>IND583101AAA</td>\n",
       "      <td>Bellary_Dc (Karnataka)</td>\n",
       "      <td>717.0</td>\n",
       "      <td>2018-09-12 00:02:09.740725</td>\n",
       "      <td>2018-09-12 12:00:30.683231</td>\n",
       "      <td>127.448500</td>\n",
       "      <td>341.0</td>\n",
       "      <td>117.0</td>\n",
       "      <td>146.7918</td>\n",
       "      <td>340.0</td>\n",
       "      <td>115.0</td>\n",
       "      <td>146.7919</td>\n",
       "    </tr>\n",
       "  </tbody>\n",
       "</table>\n",
       "</div>"
      ],
      "text/plain": [
       "       data         trip_creation_time  \\\n",
       "0  training 2018-09-12 00:00:16.535741   \n",
       "1  training 2018-09-12 00:00:22.886430   \n",
       "2  training 2018-09-12 00:00:33.691250   \n",
       "3  training 2018-09-12 00:01:00.113710   \n",
       "4  training 2018-09-12 00:02:09.740725   \n",
       "\n",
       "                                 route_schedule_uuid route_type  \\\n",
       "0  thanos::sroute:d7c989ba-a29b-4a0b-b2f4-288cdc6...        FTL   \n",
       "1  thanos::sroute:3a1b0ab2-bb0b-4c53-8c59-eb2a2c0...    Carting   \n",
       "2  thanos::sroute:de5e208e-7641-45e6-8100-4d9fb1e...        FTL   \n",
       "3  thanos::sroute:f0176492-a679-4597-8332-bbd1c7f...    Carting   \n",
       "4  thanos::sroute:d9f07b12-65e0-4f3b-bec8-df06134...        FTL   \n",
       "\n",
       "                 trip_uuid source_center                         source_name  \\\n",
       "0  trip-153671041653548748  IND462022AAA  Bhopal_Trnsport_H (Madhya Pradesh)   \n",
       "1  trip-153671042288605164  IND572101AAA       Tumkur_Veersagr_I (Karnataka)   \n",
       "2  trip-153671043369099517  IND562132AAA    Bangalore_Nelmngla_H (Karnataka)   \n",
       "3  trip-153671046011330457  IND400072AAB            Mumbai Hub (Maharashtra)   \n",
       "4  trip-153671052974046625  IND583101AAA              Bellary_Dc (Karnataka)   \n",
       "\n",
       "  destination_center                   destination_name  \\\n",
       "0       IND000000ACB      Gurgaon_Bilaspur_HB (Haryana)   \n",
       "1       IND562101AAA  Chikblapur_ShntiSgr_D (Karnataka)   \n",
       "2       IND160002AAC     Chandigarh_Mehmdpur_H (Punjab)   \n",
       "3       IND401104AAA     Mumbai_MiraRd_IP (Maharashtra)   \n",
       "4       IND583101AAA             Bellary_Dc (Karnataka)   \n",
       "\n",
       "   start_scan_to_end_scan              od_start_time  \\\n",
       "0                  2259.0 2018-09-12 00:00:16.535741   \n",
       "1                   180.0 2018-09-12 00:00:22.886430   \n",
       "2                  3933.0 2018-09-12 00:00:33.691250   \n",
       "3                   100.0 2018-09-12 00:01:00.113710   \n",
       "4                   717.0 2018-09-12 00:02:09.740725   \n",
       "\n",
       "                 od_end_time  actual_distance_to_destination  actual_time  \\\n",
       "0 2018-09-13 13:40:23.123744                      824.732854       1562.0   \n",
       "1 2018-09-12 03:01:59.598855                       73.186911        143.0   \n",
       "2 2018-09-14 17:34:55.442454                     1927.404273       3347.0   \n",
       "3 2018-09-12 01:41:29.809822                       17.175274         59.0   \n",
       "4 2018-09-12 12:00:30.683231                      127.448500        341.0   \n",
       "\n",
       "   osrm_time  osrm_distance  segment_actual_time  segment_osrm_time  \\\n",
       "0      717.0       991.3523               1548.0             1008.0   \n",
       "1       68.0        85.1110                141.0               65.0   \n",
       "2     1740.0      2354.0665               3308.0             1941.0   \n",
       "3       15.0        19.6800                 59.0               16.0   \n",
       "4      117.0       146.7918                340.0              115.0   \n",
       "\n",
       "   segment_osrm_distance  \n",
       "0              1320.4733  \n",
       "1                84.1894  \n",
       "2              2545.2678  \n",
       "3                19.8766  \n",
       "4               146.7919  "
      ]
     },
     "execution_count": 23,
     "metadata": {},
     "output_type": "execute_result"
    }
   ],
   "source": [
    "trip.head(5)"
   ]
  },
  {
   "cell_type": "code",
   "execution_count": 24,
   "metadata": {},
   "outputs": [
    {
     "data": {
      "text/plain": [
       "(14800, 19)"
      ]
     },
     "execution_count": 24,
     "metadata": {},
     "output_type": "execute_result"
    }
   ],
   "source": [
    "trip.shape"
   ]
  },
  {
   "cell_type": "code",
   "execution_count": 25,
   "metadata": {},
   "outputs": [
    {
     "name": "stdout",
     "output_type": "stream",
     "text": [
      "<class 'pandas.core.frame.DataFrame'>\n",
      "RangeIndex: 14800 entries, 0 to 14799\n",
      "Data columns (total 19 columns):\n",
      " #   Column                          Non-Null Count  Dtype         \n",
      "---  ------                          --------------  -----         \n",
      " 0   data                            14800 non-null  object        \n",
      " 1   trip_creation_time              14800 non-null  datetime64[ns]\n",
      " 2   route_schedule_uuid             14800 non-null  object        \n",
      " 3   route_type                      14800 non-null  object        \n",
      " 4   trip_uuid                       14800 non-null  object        \n",
      " 5   source_center                   14800 non-null  object        \n",
      " 6   source_name                     14800 non-null  object        \n",
      " 7   destination_center              14800 non-null  object        \n",
      " 8   destination_name                14800 non-null  object        \n",
      " 9   start_scan_to_end_scan          14800 non-null  float64       \n",
      " 10  od_start_time                   14800 non-null  datetime64[ns]\n",
      " 11  od_end_time                     14800 non-null  datetime64[ns]\n",
      " 12  actual_distance_to_destination  14800 non-null  float64       \n",
      " 13  actual_time                     14800 non-null  float64       \n",
      " 14  osrm_time                       14800 non-null  float64       \n",
      " 15  osrm_distance                   14800 non-null  float64       \n",
      " 16  segment_actual_time             14800 non-null  float64       \n",
      " 17  segment_osrm_time               14800 non-null  float64       \n",
      " 18  segment_osrm_distance           14800 non-null  float64       \n",
      "dtypes: datetime64[ns](3), float64(8), object(8)\n",
      "memory usage: 2.1+ MB\n"
     ]
    }
   ],
   "source": [
    "trip.info()"
   ]
  },
  {
   "cell_type": "code",
   "execution_count": 26,
   "metadata": {},
   "outputs": [
    {
     "data": {
      "text/html": [
       "<div>\n",
       "<style scoped>\n",
       "    .dataframe tbody tr th:only-of-type {\n",
       "        vertical-align: middle;\n",
       "    }\n",
       "\n",
       "    .dataframe tbody tr th {\n",
       "        vertical-align: top;\n",
       "    }\n",
       "\n",
       "    .dataframe thead th {\n",
       "        text-align: right;\n",
       "    }\n",
       "</style>\n",
       "<table border=\"1\" class=\"dataframe\">\n",
       "  <thead>\n",
       "    <tr style=\"text-align: right;\">\n",
       "      <th></th>\n",
       "      <th>count</th>\n",
       "      <th>mean</th>\n",
       "      <th>std</th>\n",
       "      <th>min</th>\n",
       "      <th>25%</th>\n",
       "      <th>50%</th>\n",
       "      <th>75%</th>\n",
       "      <th>max</th>\n",
       "    </tr>\n",
       "  </thead>\n",
       "  <tbody>\n",
       "    <tr>\n",
       "      <th>start_scan_to_end_scan</th>\n",
       "      <td>14800.0</td>\n",
       "      <td>530.956824</td>\n",
       "      <td>658.712230</td>\n",
       "      <td>23.000000</td>\n",
       "      <td>149.000000</td>\n",
       "      <td>280.000000</td>\n",
       "      <td>638.000000</td>\n",
       "      <td>7898.000000</td>\n",
       "    </tr>\n",
       "    <tr>\n",
       "      <th>actual_distance_to_destination</th>\n",
       "      <td>14800.0</td>\n",
       "      <td>164.583349</td>\n",
       "      <td>305.543364</td>\n",
       "      <td>9.002461</td>\n",
       "      <td>22.786366</td>\n",
       "      <td>48.463337</td>\n",
       "      <td>164.705551</td>\n",
       "      <td>2186.531787</td>\n",
       "    </tr>\n",
       "    <tr>\n",
       "      <th>actual_time</th>\n",
       "      <td>14800.0</td>\n",
       "      <td>357.282905</td>\n",
       "      <td>561.595093</td>\n",
       "      <td>9.000000</td>\n",
       "      <td>67.000000</td>\n",
       "      <td>149.000000</td>\n",
       "      <td>370.000000</td>\n",
       "      <td>6265.000000</td>\n",
       "    </tr>\n",
       "    <tr>\n",
       "      <th>osrm_time</th>\n",
       "      <td>14800.0</td>\n",
       "      <td>161.478851</td>\n",
       "      <td>271.498419</td>\n",
       "      <td>6.000000</td>\n",
       "      <td>29.000000</td>\n",
       "      <td>60.000000</td>\n",
       "      <td>168.250000</td>\n",
       "      <td>2032.000000</td>\n",
       "    </tr>\n",
       "    <tr>\n",
       "      <th>osrm_distance</th>\n",
       "      <td>14800.0</td>\n",
       "      <td>204.472239</td>\n",
       "      <td>370.584337</td>\n",
       "      <td>9.072900</td>\n",
       "      <td>30.775025</td>\n",
       "      <td>65.591250</td>\n",
       "      <td>208.632775</td>\n",
       "      <td>2840.081000</td>\n",
       "    </tr>\n",
       "    <tr>\n",
       "      <th>segment_actual_time</th>\n",
       "      <td>14800.0</td>\n",
       "      <td>354.028919</td>\n",
       "      <td>556.443324</td>\n",
       "      <td>9.000000</td>\n",
       "      <td>66.000000</td>\n",
       "      <td>147.000000</td>\n",
       "      <td>367.000000</td>\n",
       "      <td>6230.000000</td>\n",
       "    </tr>\n",
       "    <tr>\n",
       "      <th>segment_osrm_time</th>\n",
       "      <td>14800.0</td>\n",
       "      <td>181.056284</td>\n",
       "      <td>314.703250</td>\n",
       "      <td>6.000000</td>\n",
       "      <td>30.000000</td>\n",
       "      <td>65.000000</td>\n",
       "      <td>185.000000</td>\n",
       "      <td>2564.000000</td>\n",
       "    </tr>\n",
       "    <tr>\n",
       "      <th>segment_osrm_distance</th>\n",
       "      <td>14800.0</td>\n",
       "      <td>223.341203</td>\n",
       "      <td>416.842088</td>\n",
       "      <td>9.072900</td>\n",
       "      <td>32.617700</td>\n",
       "      <td>70.113450</td>\n",
       "      <td>218.917675</td>\n",
       "      <td>3523.632400</td>\n",
       "    </tr>\n",
       "  </tbody>\n",
       "</table>\n",
       "</div>"
      ],
      "text/plain": [
       "                                  count        mean         std        min  \\\n",
       "start_scan_to_end_scan          14800.0  530.956824  658.712230  23.000000   \n",
       "actual_distance_to_destination  14800.0  164.583349  305.543364   9.002461   \n",
       "actual_time                     14800.0  357.282905  561.595093   9.000000   \n",
       "osrm_time                       14800.0  161.478851  271.498419   6.000000   \n",
       "osrm_distance                   14800.0  204.472239  370.584337   9.072900   \n",
       "segment_actual_time             14800.0  354.028919  556.443324   9.000000   \n",
       "segment_osrm_time               14800.0  181.056284  314.703250   6.000000   \n",
       "segment_osrm_distance           14800.0  223.341203  416.842088   9.072900   \n",
       "\n",
       "                                       25%         50%         75%  \\\n",
       "start_scan_to_end_scan          149.000000  280.000000  638.000000   \n",
       "actual_distance_to_destination   22.786366   48.463337  164.705551   \n",
       "actual_time                      67.000000  149.000000  370.000000   \n",
       "osrm_time                        29.000000   60.000000  168.250000   \n",
       "osrm_distance                    30.775025   65.591250  208.632775   \n",
       "segment_actual_time              66.000000  147.000000  367.000000   \n",
       "segment_osrm_time                30.000000   65.000000  185.000000   \n",
       "segment_osrm_distance            32.617700   70.113450  218.917675   \n",
       "\n",
       "                                        max  \n",
       "start_scan_to_end_scan          7898.000000  \n",
       "actual_distance_to_destination  2186.531787  \n",
       "actual_time                     6265.000000  \n",
       "osrm_time                       2032.000000  \n",
       "osrm_distance                   2840.081000  \n",
       "segment_actual_time             6230.000000  \n",
       "segment_osrm_time               2564.000000  \n",
       "segment_osrm_distance           3523.632400  "
      ]
     },
     "execution_count": 26,
     "metadata": {},
     "output_type": "execute_result"
    }
   ],
   "source": [
    "trip.describe(include=np.number).T"
   ]
  },
  {
   "cell_type": "code",
   "execution_count": 27,
   "metadata": {},
   "outputs": [
    {
     "data": {
      "text/html": [
       "<div>\n",
       "<style scoped>\n",
       "    .dataframe tbody tr th:only-of-type {\n",
       "        vertical-align: middle;\n",
       "    }\n",
       "\n",
       "    .dataframe tbody tr th {\n",
       "        vertical-align: top;\n",
       "    }\n",
       "\n",
       "    .dataframe thead th {\n",
       "        text-align: right;\n",
       "    }\n",
       "</style>\n",
       "<table border=\"1\" class=\"dataframe\">\n",
       "  <thead>\n",
       "    <tr style=\"text-align: right;\">\n",
       "      <th></th>\n",
       "      <th>count</th>\n",
       "      <th>unique</th>\n",
       "      <th>top</th>\n",
       "      <th>freq</th>\n",
       "    </tr>\n",
       "  </thead>\n",
       "  <tbody>\n",
       "    <tr>\n",
       "      <th>data</th>\n",
       "      <td>14800</td>\n",
       "      <td>2</td>\n",
       "      <td>training</td>\n",
       "      <td>10647</td>\n",
       "    </tr>\n",
       "    <tr>\n",
       "      <th>route_schedule_uuid</th>\n",
       "      <td>14800</td>\n",
       "      <td>1498</td>\n",
       "      <td>thanos::sroute:a16bfa03-3462-4bce-9c82-5784c7d...</td>\n",
       "      <td>53</td>\n",
       "    </tr>\n",
       "    <tr>\n",
       "      <th>route_type</th>\n",
       "      <td>14800</td>\n",
       "      <td>2</td>\n",
       "      <td>Carting</td>\n",
       "      <td>8906</td>\n",
       "    </tr>\n",
       "    <tr>\n",
       "      <th>trip_uuid</th>\n",
       "      <td>14800</td>\n",
       "      <td>14800</td>\n",
       "      <td>trip-153791449950309515</td>\n",
       "      <td>1</td>\n",
       "    </tr>\n",
       "    <tr>\n",
       "      <th>source_center</th>\n",
       "      <td>14800</td>\n",
       "      <td>865</td>\n",
       "      <td>IND000000ACB</td>\n",
       "      <td>946</td>\n",
       "    </tr>\n",
       "    <tr>\n",
       "      <th>source_name</th>\n",
       "      <td>14800</td>\n",
       "      <td>866</td>\n",
       "      <td>Gurgaon_Bilaspur_HB (Haryana)</td>\n",
       "      <td>946</td>\n",
       "    </tr>\n",
       "    <tr>\n",
       "      <th>destination_center</th>\n",
       "      <td>14800</td>\n",
       "      <td>951</td>\n",
       "      <td>IND000000ACB</td>\n",
       "      <td>813</td>\n",
       "    </tr>\n",
       "    <tr>\n",
       "      <th>destination_name</th>\n",
       "      <td>14800</td>\n",
       "      <td>949</td>\n",
       "      <td>Gurgaon_Bilaspur_HB (Haryana)</td>\n",
       "      <td>813</td>\n",
       "    </tr>\n",
       "  </tbody>\n",
       "</table>\n",
       "</div>"
      ],
      "text/plain": [
       "                     count unique  \\\n",
       "data                 14800      2   \n",
       "route_schedule_uuid  14800   1498   \n",
       "route_type           14800      2   \n",
       "trip_uuid            14800  14800   \n",
       "source_center        14800    865   \n",
       "source_name          14800    866   \n",
       "destination_center   14800    951   \n",
       "destination_name     14800    949   \n",
       "\n",
       "                                                                   top   freq  \n",
       "data                                                          training  10647  \n",
       "route_schedule_uuid  thanos::sroute:a16bfa03-3462-4bce-9c82-5784c7d...     53  \n",
       "route_type                                                     Carting   8906  \n",
       "trip_uuid                                      trip-153791449950309515      1  \n",
       "source_center                                             IND000000ACB    946  \n",
       "source_name                              Gurgaon_Bilaspur_HB (Haryana)    946  \n",
       "destination_center                                        IND000000ACB    813  \n",
       "destination_name                         Gurgaon_Bilaspur_HB (Haryana)    813  "
      ]
     },
     "execution_count": 27,
     "metadata": {},
     "output_type": "execute_result"
    }
   ],
   "source": [
    "trip.describe(include=np.object_).T"
   ]
  },
  {
   "cell_type": "markdown",
   "metadata": {},
   "source": [
    "# EDA"
   ]
  },
  {
   "cell_type": "markdown",
   "metadata": {},
   "source": [
    "## Feature Engineering"
   ]
  },
  {
   "cell_type": "markdown",
   "metadata": {},
   "source": [
    "**Extracting time components from trip creation time.**\n",
    "- Following extracted feature help us to find insights about which time period bring more business for the company."
   ]
  },
  {
   "cell_type": "code",
   "execution_count": 28,
   "metadata": {},
   "outputs": [],
   "source": [
    "trip['trip_year'] = trip['trip_creation_time'].dt.year\n",
    "trip['trip_month'] = trip['trip_creation_time'].dt.month\n",
    "trip['trip_hour'] = trip['trip_creation_time'].dt.hour\n",
    "trip['trip_day'] = trip['trip_creation_time'].dt.day\n",
    "trip['trip_week'] = trip['trip_creation_time'].dt.isocalendar().week\n",
    "trip['trip_dayofweek'] = trip['trip_creation_time'].dt.dayofweek"
   ]
  },
  {
   "cell_type": "code",
   "execution_count": 29,
   "metadata": {},
   "outputs": [
    {
     "data": {
      "text/html": [
       "<div>\n",
       "<style scoped>\n",
       "    .dataframe tbody tr th:only-of-type {\n",
       "        vertical-align: middle;\n",
       "    }\n",
       "\n",
       "    .dataframe tbody tr th {\n",
       "        vertical-align: top;\n",
       "    }\n",
       "\n",
       "    .dataframe thead th {\n",
       "        text-align: right;\n",
       "    }\n",
       "</style>\n",
       "<table border=\"1\" class=\"dataframe\">\n",
       "  <thead>\n",
       "    <tr style=\"text-align: right;\">\n",
       "      <th></th>\n",
       "      <th>trip_year</th>\n",
       "      <th>trip_month</th>\n",
       "      <th>trip_hour</th>\n",
       "      <th>trip_day</th>\n",
       "      <th>trip_week</th>\n",
       "      <th>trip_dayofweek</th>\n",
       "    </tr>\n",
       "  </thead>\n",
       "  <tbody>\n",
       "    <tr>\n",
       "      <th>0</th>\n",
       "      <td>2018</td>\n",
       "      <td>9</td>\n",
       "      <td>0</td>\n",
       "      <td>12</td>\n",
       "      <td>37</td>\n",
       "      <td>2</td>\n",
       "    </tr>\n",
       "    <tr>\n",
       "      <th>1</th>\n",
       "      <td>2018</td>\n",
       "      <td>9</td>\n",
       "      <td>0</td>\n",
       "      <td>12</td>\n",
       "      <td>37</td>\n",
       "      <td>2</td>\n",
       "    </tr>\n",
       "    <tr>\n",
       "      <th>2</th>\n",
       "      <td>2018</td>\n",
       "      <td>9</td>\n",
       "      <td>0</td>\n",
       "      <td>12</td>\n",
       "      <td>37</td>\n",
       "      <td>2</td>\n",
       "    </tr>\n",
       "    <tr>\n",
       "      <th>3</th>\n",
       "      <td>2018</td>\n",
       "      <td>9</td>\n",
       "      <td>0</td>\n",
       "      <td>12</td>\n",
       "      <td>37</td>\n",
       "      <td>2</td>\n",
       "    </tr>\n",
       "    <tr>\n",
       "      <th>4</th>\n",
       "      <td>2018</td>\n",
       "      <td>9</td>\n",
       "      <td>0</td>\n",
       "      <td>12</td>\n",
       "      <td>37</td>\n",
       "      <td>2</td>\n",
       "    </tr>\n",
       "    <tr>\n",
       "      <th>...</th>\n",
       "      <td>...</td>\n",
       "      <td>...</td>\n",
       "      <td>...</td>\n",
       "      <td>...</td>\n",
       "      <td>...</td>\n",
       "      <td>...</td>\n",
       "    </tr>\n",
       "    <tr>\n",
       "      <th>14795</th>\n",
       "      <td>2018</td>\n",
       "      <td>10</td>\n",
       "      <td>23</td>\n",
       "      <td>3</td>\n",
       "      <td>40</td>\n",
       "      <td>2</td>\n",
       "    </tr>\n",
       "    <tr>\n",
       "      <th>14796</th>\n",
       "      <td>2018</td>\n",
       "      <td>10</td>\n",
       "      <td>23</td>\n",
       "      <td>3</td>\n",
       "      <td>40</td>\n",
       "      <td>2</td>\n",
       "    </tr>\n",
       "    <tr>\n",
       "      <th>14797</th>\n",
       "      <td>2018</td>\n",
       "      <td>10</td>\n",
       "      <td>23</td>\n",
       "      <td>3</td>\n",
       "      <td>40</td>\n",
       "      <td>2</td>\n",
       "    </tr>\n",
       "    <tr>\n",
       "      <th>14798</th>\n",
       "      <td>2018</td>\n",
       "      <td>10</td>\n",
       "      <td>23</td>\n",
       "      <td>3</td>\n",
       "      <td>40</td>\n",
       "      <td>2</td>\n",
       "    </tr>\n",
       "    <tr>\n",
       "      <th>14799</th>\n",
       "      <td>2018</td>\n",
       "      <td>10</td>\n",
       "      <td>23</td>\n",
       "      <td>3</td>\n",
       "      <td>40</td>\n",
       "      <td>2</td>\n",
       "    </tr>\n",
       "  </tbody>\n",
       "</table>\n",
       "<p>14800 rows × 6 columns</p>\n",
       "</div>"
      ],
      "text/plain": [
       "       trip_year  trip_month  trip_hour  trip_day  trip_week  trip_dayofweek\n",
       "0           2018           9          0        12         37               2\n",
       "1           2018           9          0        12         37               2\n",
       "2           2018           9          0        12         37               2\n",
       "3           2018           9          0        12         37               2\n",
       "4           2018           9          0        12         37               2\n",
       "...          ...         ...        ...       ...        ...             ...\n",
       "14795       2018          10         23         3         40               2\n",
       "14796       2018          10         23         3         40               2\n",
       "14797       2018          10         23         3         40               2\n",
       "14798       2018          10         23         3         40               2\n",
       "14799       2018          10         23         3         40               2\n",
       "\n",
       "[14800 rows x 6 columns]"
      ]
     },
     "execution_count": 29,
     "metadata": {},
     "output_type": "execute_result"
    }
   ],
   "source": [
    "trip[[\"trip_year\", \"trip_month\", \"trip_hour\", \"trip_day\", \"trip_week\", \"trip_dayofweek\"]]"
   ]
  },
  {
   "cell_type": "markdown",
   "metadata": {},
   "source": [
    "**Extracting source and destination states**"
   ]
  },
  {
   "cell_type": "code",
   "execution_count": 30,
   "metadata": {},
   "outputs": [],
   "source": [
    "def get_state(name):\n",
    "    start_pos = name.find(\"(\")\n",
    "    return name[start_pos +1 : -1]"
   ]
  },
  {
   "cell_type": "code",
   "execution_count": 31,
   "metadata": {},
   "outputs": [],
   "source": [
    "trip['source_state'] = trip[\"source_name\"].apply(get_state)\n",
    "trip[\"destination_state\"] = trip[\"destination_name\"].apply(get_state)"
   ]
  },
  {
   "cell_type": "code",
   "execution_count": 32,
   "metadata": {},
   "outputs": [
    {
     "data": {
      "text/html": [
       "<div>\n",
       "<style scoped>\n",
       "    .dataframe tbody tr th:only-of-type {\n",
       "        vertical-align: middle;\n",
       "    }\n",
       "\n",
       "    .dataframe tbody tr th {\n",
       "        vertical-align: top;\n",
       "    }\n",
       "\n",
       "    .dataframe thead th {\n",
       "        text-align: right;\n",
       "    }\n",
       "</style>\n",
       "<table border=\"1\" class=\"dataframe\">\n",
       "  <thead>\n",
       "    <tr style=\"text-align: right;\">\n",
       "      <th></th>\n",
       "      <th>source_state</th>\n",
       "      <th>destination_state</th>\n",
       "    </tr>\n",
       "  </thead>\n",
       "  <tbody>\n",
       "    <tr>\n",
       "      <th>0</th>\n",
       "      <td>Madhya Pradesh</td>\n",
       "      <td>Haryana</td>\n",
       "    </tr>\n",
       "    <tr>\n",
       "      <th>1</th>\n",
       "      <td>Karnataka</td>\n",
       "      <td>Karnataka</td>\n",
       "    </tr>\n",
       "    <tr>\n",
       "      <th>2</th>\n",
       "      <td>Karnataka</td>\n",
       "      <td>Punjab</td>\n",
       "    </tr>\n",
       "    <tr>\n",
       "      <th>3</th>\n",
       "      <td>Maharashtra</td>\n",
       "      <td>Maharashtra</td>\n",
       "    </tr>\n",
       "    <tr>\n",
       "      <th>4</th>\n",
       "      <td>Karnataka</td>\n",
       "      <td>Karnataka</td>\n",
       "    </tr>\n",
       "    <tr>\n",
       "      <th>...</th>\n",
       "      <td>...</td>\n",
       "      <td>...</td>\n",
       "    </tr>\n",
       "    <tr>\n",
       "      <th>14795</th>\n",
       "      <td>Punjab</td>\n",
       "      <td>Punjab</td>\n",
       "    </tr>\n",
       "    <tr>\n",
       "      <th>14796</th>\n",
       "      <td>Haryana</td>\n",
       "      <td>Haryana</td>\n",
       "    </tr>\n",
       "    <tr>\n",
       "      <th>14797</th>\n",
       "      <td>Uttar Pradesh</td>\n",
       "      <td>Uttar Pradesh</td>\n",
       "    </tr>\n",
       "    <tr>\n",
       "      <th>14798</th>\n",
       "      <td>Tamil Nadu</td>\n",
       "      <td>Tamil Nadu</td>\n",
       "    </tr>\n",
       "    <tr>\n",
       "      <th>14799</th>\n",
       "      <td>Karnataka</td>\n",
       "      <td>Karnataka</td>\n",
       "    </tr>\n",
       "  </tbody>\n",
       "</table>\n",
       "<p>14800 rows × 2 columns</p>\n",
       "</div>"
      ],
      "text/plain": [
       "         source_state destination_state\n",
       "0      Madhya Pradesh           Haryana\n",
       "1           Karnataka         Karnataka\n",
       "2           Karnataka            Punjab\n",
       "3         Maharashtra       Maharashtra\n",
       "4           Karnataka         Karnataka\n",
       "...               ...               ...\n",
       "14795          Punjab            Punjab\n",
       "14796         Haryana           Haryana\n",
       "14797   Uttar Pradesh     Uttar Pradesh\n",
       "14798      Tamil Nadu        Tamil Nadu\n",
       "14799       Karnataka         Karnataka\n",
       "\n",
       "[14800 rows x 2 columns]"
      ]
     },
     "execution_count": 32,
     "metadata": {},
     "output_type": "execute_result"
    }
   ],
   "source": [
    "trip[[\"source_state\", \"destination_state\"]]"
   ]
  },
  {
   "cell_type": "markdown",
   "metadata": {},
   "source": [
    "**Extracting `Trip time diff = od_end_time - od_start_time`**"
   ]
  },
  {
   "cell_type": "code",
   "execution_count": 33,
   "metadata": {},
   "outputs": [],
   "source": [
    "trip[\"trip_time_diff\"] = np.round((trip[\"od_end_time\"] - trip[\"od_start_time\"]).dt.total_seconds() / 60)"
   ]
  },
  {
   "cell_type": "code",
   "execution_count": 34,
   "metadata": {},
   "outputs": [
    {
     "data": {
      "text/html": [
       "<div>\n",
       "<style scoped>\n",
       "    .dataframe tbody tr th:only-of-type {\n",
       "        vertical-align: middle;\n",
       "    }\n",
       "\n",
       "    .dataframe tbody tr th {\n",
       "        vertical-align: top;\n",
       "    }\n",
       "\n",
       "    .dataframe thead th {\n",
       "        text-align: right;\n",
       "    }\n",
       "</style>\n",
       "<table border=\"1\" class=\"dataframe\">\n",
       "  <thead>\n",
       "    <tr style=\"text-align: right;\">\n",
       "      <th></th>\n",
       "      <th>trip_time_diff</th>\n",
       "      <th>start_scan_to_end_scan</th>\n",
       "    </tr>\n",
       "  </thead>\n",
       "  <tbody>\n",
       "    <tr>\n",
       "      <th>0</th>\n",
       "      <td>2260.0</td>\n",
       "      <td>2259.0</td>\n",
       "    </tr>\n",
       "    <tr>\n",
       "      <th>1</th>\n",
       "      <td>182.0</td>\n",
       "      <td>180.0</td>\n",
       "    </tr>\n",
       "    <tr>\n",
       "      <th>2</th>\n",
       "      <td>3934.0</td>\n",
       "      <td>3933.0</td>\n",
       "    </tr>\n",
       "    <tr>\n",
       "      <th>3</th>\n",
       "      <td>100.0</td>\n",
       "      <td>100.0</td>\n",
       "    </tr>\n",
       "    <tr>\n",
       "      <th>4</th>\n",
       "      <td>718.0</td>\n",
       "      <td>717.0</td>\n",
       "    </tr>\n",
       "    <tr>\n",
       "      <th>...</th>\n",
       "      <td>...</td>\n",
       "      <td>...</td>\n",
       "    </tr>\n",
       "    <tr>\n",
       "      <th>14795</th>\n",
       "      <td>405.0</td>\n",
       "      <td>257.0</td>\n",
       "    </tr>\n",
       "    <tr>\n",
       "      <th>14796</th>\n",
       "      <td>61.0</td>\n",
       "      <td>60.0</td>\n",
       "    </tr>\n",
       "    <tr>\n",
       "      <th>14797</th>\n",
       "      <td>422.0</td>\n",
       "      <td>421.0</td>\n",
       "    </tr>\n",
       "    <tr>\n",
       "      <th>14798</th>\n",
       "      <td>349.0</td>\n",
       "      <td>347.0</td>\n",
       "    </tr>\n",
       "    <tr>\n",
       "      <th>14799</th>\n",
       "      <td>354.0</td>\n",
       "      <td>353.0</td>\n",
       "    </tr>\n",
       "  </tbody>\n",
       "</table>\n",
       "<p>14800 rows × 2 columns</p>\n",
       "</div>"
      ],
      "text/plain": [
       "       trip_time_diff  start_scan_to_end_scan\n",
       "0              2260.0                  2259.0\n",
       "1               182.0                   180.0\n",
       "2              3934.0                  3933.0\n",
       "3               100.0                   100.0\n",
       "4               718.0                   717.0\n",
       "...               ...                     ...\n",
       "14795           405.0                   257.0\n",
       "14796            61.0                    60.0\n",
       "14797           422.0                   421.0\n",
       "14798           349.0                   347.0\n",
       "14799           354.0                   353.0\n",
       "\n",
       "[14800 rows x 2 columns]"
      ]
     },
     "execution_count": 34,
     "metadata": {},
     "output_type": "execute_result"
    }
   ],
   "source": [
    "trip[[\"trip_time_diff\", \"start_scan_to_end_scan\"]]"
   ]
  },
  {
   "cell_type": "markdown",
   "metadata": {},
   "source": [
    "## Encoding"
   ]
  },
  {
   "cell_type": "code",
   "execution_count": 35,
   "metadata": {},
   "outputs": [
    {
     "data": {
      "text/plain": [
       "Carting    8906\n",
       "FTL        5894\n",
       "Name: route_type, dtype: int64"
      ]
     },
     "execution_count": 35,
     "metadata": {},
     "output_type": "execute_result"
    }
   ],
   "source": [
    "trip['route_type'].value_counts()"
   ]
  },
  {
   "cell_type": "markdown",
   "metadata": {},
   "source": [
    "**Performing One Hot Encoding for `route_type`**"
   ]
  },
  {
   "cell_type": "code",
   "execution_count": 36,
   "metadata": {},
   "outputs": [],
   "source": [
    "trip['Carting'] = (trip['route_type'] == \"Carting\").astype(int)\n",
    "trip['FTL'] = (trip['route_type'] == \"FTL\").astype(int)"
   ]
  },
  {
   "cell_type": "markdown",
   "metadata": {},
   "source": [
    "## Univariate Analysis"
   ]
  },
  {
   "cell_type": "code",
   "execution_count": 55,
   "metadata": {},
   "outputs": [
    {
     "name": "stdout",
     "output_type": "stream",
     "text": [
      "<class 'pandas.core.frame.DataFrame'>\n",
      "RangeIndex: 14800 entries, 0 to 14799\n",
      "Data columns (total 30 columns):\n",
      " #   Column                          Non-Null Count  Dtype         \n",
      "---  ------                          --------------  -----         \n",
      " 0   data                            14800 non-null  object        \n",
      " 1   trip_creation_time              14800 non-null  datetime64[ns]\n",
      " 2   route_schedule_uuid             14800 non-null  object        \n",
      " 3   route_type                      14800 non-null  object        \n",
      " 4   trip_uuid                       14800 non-null  object        \n",
      " 5   source_center                   14800 non-null  object        \n",
      " 6   source_name                     14800 non-null  object        \n",
      " 7   destination_center              14800 non-null  object        \n",
      " 8   destination_name                14800 non-null  object        \n",
      " 9   start_scan_to_end_scan          14800 non-null  float64       \n",
      " 10  od_start_time                   14800 non-null  datetime64[ns]\n",
      " 11  od_end_time                     14800 non-null  datetime64[ns]\n",
      " 12  actual_distance_to_destination  14800 non-null  float64       \n",
      " 13  actual_time                     14800 non-null  float64       \n",
      " 14  osrm_time                       14800 non-null  float64       \n",
      " 15  osrm_distance                   14800 non-null  float64       \n",
      " 16  segment_actual_time             14800 non-null  float64       \n",
      " 17  segment_osrm_time               14800 non-null  float64       \n",
      " 18  segment_osrm_distance           14800 non-null  float64       \n",
      " 19  trip_year                       14800 non-null  int64         \n",
      " 20  trip_month                      14800 non-null  int64         \n",
      " 21  trip_hour                       14800 non-null  int64         \n",
      " 22  trip_day                        14800 non-null  int64         \n",
      " 23  trip_week                       14800 non-null  UInt32        \n",
      " 24  trip_dayofweek                  14800 non-null  int64         \n",
      " 25  source_state                    14800 non-null  object        \n",
      " 26  destination_state               14800 non-null  object        \n",
      " 27  trip_time_diff                  14800 non-null  float64       \n",
      " 28  Carting                         14800 non-null  int32         \n",
      " 29  FTL                             14800 non-null  int32         \n",
      "dtypes: UInt32(1), datetime64[ns](3), float64(9), int32(2), int64(5), object(10)\n",
      "memory usage: 3.2+ MB\n"
     ]
    }
   ],
   "source": [
    "trip.info()"
   ]
  },
  {
   "cell_type": "code",
   "execution_count": 58,
   "metadata": {},
   "outputs": [
    {
     "data": {
      "text/plain": [
       "data                                  2\n",
       "trip_creation_time                14800\n",
       "route_schedule_uuid                1498\n",
       "route_type                            2\n",
       "trip_uuid                         14800\n",
       "source_center                       865\n",
       "source_name                         866\n",
       "destination_center                  951\n",
       "destination_name                    949\n",
       "start_scan_to_end_scan             2208\n",
       "od_start_time                     14800\n",
       "od_end_time                       14800\n",
       "actual_distance_to_destination    14784\n",
       "actual_time                        1852\n",
       "osrm_time                           817\n",
       "osrm_distance                     14718\n",
       "segment_actual_time                1889\n",
       "segment_osrm_time                  1242\n",
       "segment_osrm_distance             14741\n",
       "trip_year                             1\n",
       "trip_month                            2\n",
       "trip_hour                            24\n",
       "trip_day                             22\n",
       "trip_week                             4\n",
       "trip_dayofweek                        7\n",
       "source_state                         29\n",
       "destination_state                    32\n",
       "trip_time_diff                     2263\n",
       "Carting                               2\n",
       "FTL                                   2\n",
       "dtype: int64"
      ]
     },
     "execution_count": 58,
     "metadata": {},
     "output_type": "execute_result"
    }
   ],
   "source": [
    "trip.nunique()"
   ]
  },
  {
   "cell_type": "code",
   "execution_count": 59,
   "metadata": {},
   "outputs": [
    {
     "data": {
      "text/plain": [
       "Carting    8906\n",
       "FTL        5894\n",
       "Name: route_type, dtype: int64"
      ]
     },
     "execution_count": 59,
     "metadata": {},
     "output_type": "execute_result"
    }
   ],
   "source": [
    "trip[\"route_type\"].value_counts()"
   ]
  },
  {
   "cell_type": "code",
   "execution_count": 60,
   "metadata": {},
   "outputs": [
    {
     "data": {
      "text/plain": [
       "2018    14800\n",
       "Name: trip_year, dtype: int64"
      ]
     },
     "execution_count": 60,
     "metadata": {},
     "output_type": "execute_result"
    }
   ],
   "source": [
    "trip[\"trip_year\"].value_counts()"
   ]
  },
  {
   "cell_type": "code",
   "execution_count": 61,
   "metadata": {},
   "outputs": [
    {
     "data": {
      "text/plain": [
       "9     13020\n",
       "10     1780\n",
       "Name: trip_month, dtype: int64"
      ]
     },
     "execution_count": 61,
     "metadata": {},
     "output_type": "execute_result"
    }
   ],
   "source": [
    "trip[\"trip_month\"].value_counts()"
   ]
  },
  {
   "cell_type": "code",
   "execution_count": 63,
   "metadata": {},
   "outputs": [
    {
     "data": {
      "text/plain": [
       "1     601\n",
       "2     550\n",
       "3     629\n",
       "12    747\n",
       "13    750\n",
       "14    712\n",
       "15    783\n",
       "16    616\n",
       "17    722\n",
       "18    791\n",
       "19    674\n",
       "20    703\n",
       "21    740\n",
       "22    740\n",
       "23    631\n",
       "24    658\n",
       "25    696\n",
       "26    684\n",
       "27    652\n",
       "28    607\n",
       "29    606\n",
       "30    508\n",
       "Name: trip_day, dtype: int64"
      ]
     },
     "execution_count": 63,
     "metadata": {},
     "output_type": "execute_result"
    }
   ],
   "source": [
    "trip[\"trip_day\"].value_counts().sort_index()"
   ]
  },
  {
   "cell_type": "code",
   "execution_count": 65,
   "metadata": {},
   "outputs": [
    {
     "data": {
      "text/plain": [
       "37    3608\n",
       "38    5001\n",
       "39    4411\n",
       "40    1780\n",
       "Name: trip_week, dtype: Int64"
      ]
     },
     "execution_count": 65,
     "metadata": {},
     "output_type": "execute_result"
    }
   ],
   "source": [
    "trip[\"trip_week\"].value_counts().sort_index()"
   ]
  },
  {
   "cell_type": "code",
   "execution_count": 66,
   "metadata": {},
   "outputs": [
    {
     "data": {
      "text/plain": [
       "2    2734\n",
       "5    2129\n",
       "3    2105\n",
       "4    2059\n",
       "1    2037\n",
       "0    1981\n",
       "6    1755\n",
       "Name: trip_dayofweek, dtype: int64"
      ]
     },
     "execution_count": 66,
     "metadata": {},
     "output_type": "execute_result"
    }
   ],
   "source": [
    "trip[\"trip_dayofweek\"].value_counts()"
   ]
  },
  {
   "cell_type": "code",
   "execution_count": 67,
   "metadata": {},
   "outputs": [
    {
     "data": {
      "text/plain": [
       "Maharashtra               2682\n",
       "Karnataka                 2229\n",
       "Haryana                   1681\n",
       "Tamil Nadu                1085\n",
       "Delhi                      791\n",
       "Telangana                  779\n",
       "Gujarat                    746\n",
       "Uttar Pradesh              720\n",
       "West Bengal                677\n",
       "Punjab                     630\n",
       "Rajasthan                  493\n",
       "Andhra Pradesh             407\n",
       "Bihar                      358\n",
       "Madhya Pradesh             332\n",
       "Kerala                     289\n",
       "Assam                      273\n",
       "Jharkhand                  160\n",
       "Uttarakhand                114\n",
       "Orissa                     107\n",
       "Goa                         65\n",
       "Chandigarh                  48\n",
       "Chhattisgarh                43\n",
       "Himachal Pradesh            34\n",
       "Jammu & Kashmir             17\n",
       "Dadra and Nagar Haveli      15\n",
       "Pondicherry                 12\n",
       "Nagaland                     5\n",
       "Arunachal Pradesh            4\n",
       "Mizoram                      4\n",
       "Name: source_state, dtype: int64"
      ]
     },
     "execution_count": 67,
     "metadata": {},
     "output_type": "execute_result"
    }
   ],
   "source": [
    "trip[\"source_state\"].value_counts()"
   ]
  },
  {
   "cell_type": "code",
   "execution_count": 68,
   "metadata": {},
   "outputs": [
    {
     "data": {
      "text/plain": [
       "Maharashtra               2591\n",
       "Karnataka                 2275\n",
       "Haryana                   1667\n",
       "Tamil Nadu                1072\n",
       "Telangana                  838\n",
       "Gujarat                    746\n",
       "Uttar Pradesh              732\n",
       "West Bengal                708\n",
       "Punjab                     693\n",
       "Delhi                      675\n",
       "Rajasthan                  523\n",
       "Andhra Pradesh             414\n",
       "Bihar                      363\n",
       "Madhya Pradesh             337\n",
       "Kerala                     273\n",
       "Assam                      234\n",
       "Jharkhand                  168\n",
       "Orissa                     119\n",
       "Uttarakhand                113\n",
       "Goa                         65\n",
       "Chhattisgarh                43\n",
       "Himachal Pradesh            40\n",
       "Chandigarh                  29\n",
       "Arunachal Pradesh           23\n",
       "Dadra and Nagar Haveli      17\n",
       "Jammu & Kashmir             15\n",
       "Pondicherry                 10\n",
       "Meghalaya                    8\n",
       "Mizoram                      6\n",
       "Daman & Diu                  1\n",
       "Tripura                      1\n",
       "Nagaland                     1\n",
       "Name: destination_state, dtype: int64"
      ]
     },
     "execution_count": 68,
     "metadata": {},
     "output_type": "execute_result"
    }
   ],
   "source": [
    "trip[\"destination_state\"].value_counts()"
   ]
  },
  {
   "cell_type": "code",
   "execution_count": 85,
   "metadata": {},
   "outputs": [
    {
     "data": {
      "text/html": [
       "<div>\n",
       "<style scoped>\n",
       "    .dataframe tbody tr th:only-of-type {\n",
       "        vertical-align: middle;\n",
       "    }\n",
       "\n",
       "    .dataframe tbody tr th {\n",
       "        vertical-align: top;\n",
       "    }\n",
       "\n",
       "    .dataframe thead th {\n",
       "        text-align: right;\n",
       "    }\n",
       "</style>\n",
       "<table border=\"1\" class=\"dataframe\">\n",
       "  <thead>\n",
       "    <tr style=\"text-align: right;\">\n",
       "      <th></th>\n",
       "      <th>source_state</th>\n",
       "      <th>destination_state</th>\n",
       "      <th>trips_count</th>\n",
       "    </tr>\n",
       "  </thead>\n",
       "  <tbody>\n",
       "    <tr>\n",
       "      <th>0</th>\n",
       "      <td>Maharashtra</td>\n",
       "      <td>Maharashtra</td>\n",
       "      <td>2406</td>\n",
       "    </tr>\n",
       "    <tr>\n",
       "      <th>1</th>\n",
       "      <td>Karnataka</td>\n",
       "      <td>Karnataka</td>\n",
       "      <td>2015</td>\n",
       "    </tr>\n",
       "    <tr>\n",
       "      <th>2</th>\n",
       "      <td>Tamil Nadu</td>\n",
       "      <td>Tamil Nadu</td>\n",
       "      <td>1016</td>\n",
       "    </tr>\n",
       "    <tr>\n",
       "      <th>3</th>\n",
       "      <td>Haryana</td>\n",
       "      <td>Haryana</td>\n",
       "      <td>871</td>\n",
       "    </tr>\n",
       "    <tr>\n",
       "      <th>4</th>\n",
       "      <td>Telangana</td>\n",
       "      <td>Telangana</td>\n",
       "      <td>655</td>\n",
       "    </tr>\n",
       "  </tbody>\n",
       "</table>\n",
       "</div>"
      ],
      "text/plain": [
       "  source_state destination_state  trips_count\n",
       "0  Maharashtra       Maharashtra         2406\n",
       "1    Karnataka         Karnataka         2015\n",
       "2   Tamil Nadu        Tamil Nadu         1016\n",
       "3      Haryana           Haryana          871\n",
       "4    Telangana         Telangana          655"
      ]
     },
     "execution_count": 85,
     "metadata": {},
     "output_type": "execute_result"
    }
   ],
   "source": [
    "source_destination_counts = trip.groupby([\"source_state\", \"destination_state\"])[[\"data\"]].count().reset_index().sort_values(by=\"data\", ascending=False)\n",
    "source_destination_counts.rename(columns={\"data\": \"trips_count\"}, inplace=True)\n",
    "source_destination_counts.reset_index(drop=True, inplace=True)\n",
    "\n",
    "source_destination_counts.head()"
   ]
  },
  {
   "cell_type": "code",
   "execution_count": 87,
   "metadata": {},
   "outputs": [
    {
     "data": {
      "text/plain": [
       "11771"
      ]
     },
     "execution_count": 87,
     "metadata": {},
     "output_type": "execute_result"
    }
   ],
   "source": [
    "intra_state_trips = source_destination_counts[source_destination_counts[\"source_state\"] == source_destination_counts[\"destination_state\"]][\"trips_count\"].sum()\n",
    "intra_state_trips"
   ]
  },
  {
   "cell_type": "code",
   "execution_count": 88,
   "metadata": {},
   "outputs": [
    {
     "data": {
      "text/plain": [
       "3029"
      ]
     },
     "execution_count": 88,
     "metadata": {},
     "output_type": "execute_result"
    }
   ],
   "source": [
    "inter_state_trips = source_destination_counts[source_destination_counts[\"source_state\"] != source_destination_counts[\"destination_state\"]][\"trips_count\"].sum()\n",
    "inter_state_trips"
   ]
  },
  {
   "cell_type": "code",
   "execution_count": null,
   "metadata": {},
   "outputs": [],
   "source": []
  },
  {
   "cell_type": "code",
   "execution_count": null,
   "metadata": {},
   "outputs": [],
   "source": []
  },
  {
   "cell_type": "code",
   "execution_count": null,
   "metadata": {},
   "outputs": [],
   "source": []
  },
  {
   "cell_type": "code",
   "execution_count": null,
   "metadata": {},
   "outputs": [],
   "source": []
  },
  {
   "cell_type": "code",
   "execution_count": null,
   "metadata": {},
   "outputs": [],
   "source": []
  },
  {
   "cell_type": "code",
   "execution_count": null,
   "metadata": {},
   "outputs": [],
   "source": []
  },
  {
   "cell_type": "code",
   "execution_count": null,
   "metadata": {},
   "outputs": [],
   "source": []
  },
  {
   "cell_type": "code",
   "execution_count": null,
   "metadata": {},
   "outputs": [],
   "source": []
  },
  {
   "cell_type": "code",
   "execution_count": null,
   "metadata": {},
   "outputs": [],
   "source": []
  },
  {
   "cell_type": "code",
   "execution_count": null,
   "metadata": {},
   "outputs": [],
   "source": []
  },
  {
   "cell_type": "code",
   "execution_count": null,
   "metadata": {},
   "outputs": [],
   "source": []
  },
  {
   "cell_type": "markdown",
   "metadata": {},
   "source": [
    "## Hypothesis Testing\n",
    "\n",
    "Note:- All tests, unless specifically specified, are performed with 95% confidence"
   ]
  },
  {
   "cell_type": "code",
   "execution_count": 37,
   "metadata": {},
   "outputs": [
    {
     "data": {
      "text/html": [
       "<div>\n",
       "<style scoped>\n",
       "    .dataframe tbody tr th:only-of-type {\n",
       "        vertical-align: middle;\n",
       "    }\n",
       "\n",
       "    .dataframe tbody tr th {\n",
       "        vertical-align: top;\n",
       "    }\n",
       "\n",
       "    .dataframe thead th {\n",
       "        text-align: right;\n",
       "    }\n",
       "</style>\n",
       "<table border=\"1\" class=\"dataframe\">\n",
       "  <thead>\n",
       "    <tr style=\"text-align: right;\">\n",
       "      <th></th>\n",
       "      <th>start_scan_to_end_scan</th>\n",
       "      <th>trip_time_diff</th>\n",
       "      <th>actual_distance_to_destination</th>\n",
       "      <th>actual_time</th>\n",
       "      <th>osrm_time</th>\n",
       "      <th>osrm_distance</th>\n",
       "      <th>segment_actual_time</th>\n",
       "      <th>segment_osrm_time</th>\n",
       "      <th>segment_osrm_distance</th>\n",
       "    </tr>\n",
       "  </thead>\n",
       "  <tbody>\n",
       "    <tr>\n",
       "      <th>0</th>\n",
       "      <td>2259.0</td>\n",
       "      <td>2260.0</td>\n",
       "      <td>824.732854</td>\n",
       "      <td>1562.0</td>\n",
       "      <td>717.0</td>\n",
       "      <td>991.3523</td>\n",
       "      <td>1548.0</td>\n",
       "      <td>1008.0</td>\n",
       "      <td>1320.4733</td>\n",
       "    </tr>\n",
       "    <tr>\n",
       "      <th>1</th>\n",
       "      <td>180.0</td>\n",
       "      <td>182.0</td>\n",
       "      <td>73.186911</td>\n",
       "      <td>143.0</td>\n",
       "      <td>68.0</td>\n",
       "      <td>85.1110</td>\n",
       "      <td>141.0</td>\n",
       "      <td>65.0</td>\n",
       "      <td>84.1894</td>\n",
       "    </tr>\n",
       "    <tr>\n",
       "      <th>2</th>\n",
       "      <td>3933.0</td>\n",
       "      <td>3934.0</td>\n",
       "      <td>1927.404273</td>\n",
       "      <td>3347.0</td>\n",
       "      <td>1740.0</td>\n",
       "      <td>2354.0665</td>\n",
       "      <td>3308.0</td>\n",
       "      <td>1941.0</td>\n",
       "      <td>2545.2678</td>\n",
       "    </tr>\n",
       "    <tr>\n",
       "      <th>3</th>\n",
       "      <td>100.0</td>\n",
       "      <td>100.0</td>\n",
       "      <td>17.175274</td>\n",
       "      <td>59.0</td>\n",
       "      <td>15.0</td>\n",
       "      <td>19.6800</td>\n",
       "      <td>59.0</td>\n",
       "      <td>16.0</td>\n",
       "      <td>19.8766</td>\n",
       "    </tr>\n",
       "    <tr>\n",
       "      <th>4</th>\n",
       "      <td>717.0</td>\n",
       "      <td>718.0</td>\n",
       "      <td>127.448500</td>\n",
       "      <td>341.0</td>\n",
       "      <td>117.0</td>\n",
       "      <td>146.7918</td>\n",
       "      <td>340.0</td>\n",
       "      <td>115.0</td>\n",
       "      <td>146.7919</td>\n",
       "    </tr>\n",
       "    <tr>\n",
       "      <th>5</th>\n",
       "      <td>189.0</td>\n",
       "      <td>190.0</td>\n",
       "      <td>24.597048</td>\n",
       "      <td>61.0</td>\n",
       "      <td>23.0</td>\n",
       "      <td>28.0647</td>\n",
       "      <td>60.0</td>\n",
       "      <td>23.0</td>\n",
       "      <td>28.0647</td>\n",
       "    </tr>\n",
       "    <tr>\n",
       "      <th>6</th>\n",
       "      <td>98.0</td>\n",
       "      <td>98.0</td>\n",
       "      <td>9.100510</td>\n",
       "      <td>24.0</td>\n",
       "      <td>13.0</td>\n",
       "      <td>12.0184</td>\n",
       "      <td>24.0</td>\n",
       "      <td>13.0</td>\n",
       "      <td>12.0184</td>\n",
       "    </tr>\n",
       "    <tr>\n",
       "      <th>7</th>\n",
       "      <td>146.0</td>\n",
       "      <td>176.0</td>\n",
       "      <td>22.424210</td>\n",
       "      <td>64.0</td>\n",
       "      <td>34.0</td>\n",
       "      <td>28.9203</td>\n",
       "      <td>64.0</td>\n",
       "      <td>34.0</td>\n",
       "      <td>28.9203</td>\n",
       "    </tr>\n",
       "    <tr>\n",
       "      <th>8</th>\n",
       "      <td>280.0</td>\n",
       "      <td>311.0</td>\n",
       "      <td>25.454848</td>\n",
       "      <td>161.0</td>\n",
       "      <td>29.0</td>\n",
       "      <td>30.9359</td>\n",
       "      <td>161.0</td>\n",
       "      <td>29.0</td>\n",
       "      <td>30.9358</td>\n",
       "    </tr>\n",
       "    <tr>\n",
       "      <th>9</th>\n",
       "      <td>49.0</td>\n",
       "      <td>49.0</td>\n",
       "      <td>9.872146</td>\n",
       "      <td>23.0</td>\n",
       "      <td>8.0</td>\n",
       "      <td>9.9566</td>\n",
       "      <td>23.0</td>\n",
       "      <td>14.0</td>\n",
       "      <td>16.0860</td>\n",
       "    </tr>\n",
       "  </tbody>\n",
       "</table>\n",
       "</div>"
      ],
      "text/plain": [
       "   start_scan_to_end_scan  trip_time_diff  actual_distance_to_destination  \\\n",
       "0                  2259.0          2260.0                      824.732854   \n",
       "1                   180.0           182.0                       73.186911   \n",
       "2                  3933.0          3934.0                     1927.404273   \n",
       "3                   100.0           100.0                       17.175274   \n",
       "4                   717.0           718.0                      127.448500   \n",
       "5                   189.0           190.0                       24.597048   \n",
       "6                    98.0            98.0                        9.100510   \n",
       "7                   146.0           176.0                       22.424210   \n",
       "8                   280.0           311.0                       25.454848   \n",
       "9                    49.0            49.0                        9.872146   \n",
       "\n",
       "   actual_time  osrm_time  osrm_distance  segment_actual_time  \\\n",
       "0       1562.0      717.0       991.3523               1548.0   \n",
       "1        143.0       68.0        85.1110                141.0   \n",
       "2       3347.0     1740.0      2354.0665               3308.0   \n",
       "3         59.0       15.0        19.6800                 59.0   \n",
       "4        341.0      117.0       146.7918                340.0   \n",
       "5         61.0       23.0        28.0647                 60.0   \n",
       "6         24.0       13.0        12.0184                 24.0   \n",
       "7         64.0       34.0        28.9203                 64.0   \n",
       "8        161.0       29.0        30.9359                161.0   \n",
       "9         23.0        8.0         9.9566                 23.0   \n",
       "\n",
       "   segment_osrm_time  segment_osrm_distance  \n",
       "0             1008.0              1320.4733  \n",
       "1               65.0                84.1894  \n",
       "2             1941.0              2545.2678  \n",
       "3               16.0                19.8766  \n",
       "4              115.0               146.7919  \n",
       "5               23.0                28.0647  \n",
       "6               13.0                12.0184  \n",
       "7               34.0                28.9203  \n",
       "8               29.0                30.9358  \n",
       "9               14.0                16.0860  "
      ]
     },
     "execution_count": 37,
     "metadata": {},
     "output_type": "execute_result"
    }
   ],
   "source": [
    "trip[['start_scan_to_end_scan', 'trip_time_diff', 'actual_distance_to_destination', 'actual_time', 'osrm_time', 'osrm_distance', 'segment_actual_time', 'segment_osrm_time', 'segment_osrm_distance']].head(10)"
   ]
  },
  {
   "cell_type": "markdown",
   "metadata": {},
   "source": [
    "### Some Utility functions"
   ]
  },
  {
   "cell_type": "code",
   "execution_count": 38,
   "metadata": {},
   "outputs": [],
   "source": [
    "def show_test_result(Ho: str, Ha: str, p_value: float, alpha: float) -> None:\n",
    "    print(f\"P-Value: {p_value}\")\n",
    "    if p_value < alpha:\n",
    "        print(\"Reject Null Hypothesis\")\n",
    "        print(Ha)\n",
    "    else:\n",
    "        print(\"Failed to reject Null Hypothesis\")\n",
    "        print(Ho)"
   ]
  },
  {
   "cell_type": "markdown",
   "metadata": {},
   "source": [
    "### 1. Hypothesis testing between `trip_time_diff` and `start_scan_to_end_scan`"
   ]
  },
  {
   "cell_type": "markdown",
   "metadata": {},
   "source": [
    "- Since the dataset is very large so t-test are robust if these 2 columns violates normality.\n",
    "- Check variance between the dataset, to decide which type of t-test to perform. i.e, normal independent t-test or modified t-test (Welch's t-test)\n",
    "\n",
    "**Homogeneity of Variance (Levene test)**"
   ]
  },
  {
   "cell_type": "code",
   "execution_count": 39,
   "metadata": {},
   "outputs": [
    {
     "name": "stdout",
     "output_type": "stream",
     "text": [
      "P-Value: 0.045196683925736635\n",
      "Reject Null Hypothesis\n",
      "Non-homogenous Variance\n"
     ]
    }
   ],
   "source": [
    "Ho = \"Homogenous Variance\"\n",
    "Ha = \"Non-homogenous Variance\"\n",
    "alpha = 0.05\n",
    "\n",
    "test_stat, p_value = stats.levene(trip[\"start_scan_to_end_scan\"], trip[\"trip_time_diff\"])\n",
    "\n",
    "show_test_result(Ho, Ha, p_value, alpha)"
   ]
  },
  {
   "cell_type": "markdown",
   "metadata": {},
   "source": [
    "Since Variance is non-homogenous, performing Welch's t-test (t-test with unequal variance)\n",
    "\n",
    "**Welch's t-tests (independent t-test with unequal variance)**"
   ]
  },
  {
   "cell_type": "code",
   "execution_count": 40,
   "metadata": {},
   "outputs": [
    {
     "name": "stdout",
     "output_type": "stream",
     "text": [
      "P-Value: 0.030703766722354905\n",
      "Reject Null Hypothesis\n",
      "There is a significance difference in mean trip_time_diff and mean scanning time from start to end\n"
     ]
    }
   ],
   "source": [
    "Ho = \"There is no significance difference in mean trip_time_diff and mean scanning time from start to end\"\n",
    "Ha = \"There is a significance difference in mean trip_time_diff and mean scanning time from start to end\"\n",
    "alpha = 0.05\n",
    "\n",
    "test_stat, p_value = stats.ttest_ind(trip[\"start_scan_to_end_scan\"], trip[\"trip_time_diff\"], equal_var=False)\n",
    "\n",
    "show_test_result(Ho, Ha, p_value, alpha)"
   ]
  },
  {
   "cell_type": "markdown",
   "metadata": {},
   "source": [
    "### 2. Hypothesis testing between `actual_time` and `osrm_time`"
   ]
  },
  {
   "cell_type": "markdown",
   "metadata": {},
   "source": [
    "- Since the dataset is very large so t-test are robust if these 2 columns violates normality.\n",
    "- Check variance between the dataset, to decide which type of t-test to perform. i.e, normal independent t-test or modified t-test (Welch's t-test)\n",
    "\n",
    "**Homogeneity of Variance (Levene test)**"
   ]
  },
  {
   "cell_type": "code",
   "execution_count": 41,
   "metadata": {},
   "outputs": [
    {
     "name": "stdout",
     "output_type": "stream",
     "text": [
      "P-Value: 3.470800813899771e-220\n",
      "Reject Null Hypothesis\n",
      "Non-homogenous Variance\n"
     ]
    }
   ],
   "source": [
    "Ho = \"Homogenous Variance\"\n",
    "Ha = \"Non-homogenous Variance\"\n",
    "alpha = 0.05\n",
    "\n",
    "test_stat, p_value = stats.levene(trip[\"actual_time\"], trip[\"osrm_time\"])\n",
    "\n",
    "show_test_result(Ho, Ha, p_value, alpha)"
   ]
  },
  {
   "cell_type": "markdown",
   "metadata": {},
   "source": [
    "Since Variance is non-homogenous, performing Welch's t-test (t-test with unequal variance)\n",
    "\n",
    "**Welch's t-tests (independent t-test with unequal variance)**"
   ]
  },
  {
   "cell_type": "code",
   "execution_count": 42,
   "metadata": {},
   "outputs": [
    {
     "name": "stdout",
     "output_type": "stream",
     "text": [
      "P-Value: 1.030678577324194e-308\n",
      "Reject Null Hypothesis\n",
      "There is a significance difference in mean actual time and mean osrm time\n"
     ]
    }
   ],
   "source": [
    "Ho = \"There is no significance difference in mean actual time and mean osrm time\"\n",
    "Ha = \"There is a significance difference in mean actual time and mean osrm time\"\n",
    "alpha = 0.05\n",
    "\n",
    "test_stat, p_value = stats.ttest_ind(trip[\"actual_time\"], trip[\"osrm_time\"], equal_var=False)\n",
    "\n",
    "show_test_result(Ho, Ha, p_value, alpha)"
   ]
  },
  {
   "cell_type": "markdown",
   "metadata": {},
   "source": [
    "### 3. Hypothesis testing between `actual_time` and `segment_actual_time`"
   ]
  },
  {
   "cell_type": "markdown",
   "metadata": {},
   "source": [
    "- Since the dataset is very large so t-test are robust if these 2 columns violates normality.\n",
    "- Check variance between the dataset, to decide which type of t-test to perform. i.e, normal independent t-test or modified t-test (Welch's t-test)\n",
    "\n",
    "**Homogeneity of Variance (Levene test)**"
   ]
  },
  {
   "cell_type": "code",
   "execution_count": 43,
   "metadata": {},
   "outputs": [
    {
     "name": "stdout",
     "output_type": "stream",
     "text": [
      "P-Value: 0.6954490990469593\n",
      "Failed to reject Null Hypothesis\n",
      "Homogenous Variance\n"
     ]
    }
   ],
   "source": [
    "Ho = \"Homogenous Variance\"\n",
    "Ha = \"Non-homogenous Variance\"\n",
    "alpha = 0.05\n",
    "\n",
    "test_stat, p_value = stats.levene(trip[\"actual_time\"], trip[\"segment_actual_time\"])\n",
    "\n",
    "show_test_result(Ho, Ha, p_value, alpha)"
   ]
  },
  {
   "cell_type": "markdown",
   "metadata": {},
   "source": [
    "Since Variance is homogenous, performing independent t-test\n",
    "\n",
    "**Independent t-test**"
   ]
  },
  {
   "cell_type": "code",
   "execution_count": 44,
   "metadata": {},
   "outputs": [
    {
     "name": "stdout",
     "output_type": "stream",
     "text": [
      "P-Value: 0.6165675968933483\n",
      "Failed to reject Null Hypothesis\n",
      "There is no significance difference in mean actual_time and mean segment_actual_time\n"
     ]
    }
   ],
   "source": [
    "Ho = \"There is no significance difference in mean actual_time and mean segment_actual_time\"\n",
    "Ha = \"There is a significance difference in mean actual_time and mean segment_actual_time\"\n",
    "alpha = 0.05\n",
    "\n",
    "test_stat, p_value = stats.ttest_ind(trip[\"actual_time\"], trip[\"segment_actual_time\"])\n",
    "\n",
    "show_test_result(Ho, Ha, p_value, alpha)"
   ]
  },
  {
   "cell_type": "markdown",
   "metadata": {},
   "source": [
    "### 4. Hypothesis testing between `osrm_distance` and `segment_osrm_distance`"
   ]
  },
  {
   "cell_type": "markdown",
   "metadata": {},
   "source": [
    "- Since the dataset is very large so t-test are robust if these 2 columns violates normality.\n",
    "- Check variance between the dataset, to decide which type of t-test to perform. i.e, normal independent t-test or modified t-test (Welch's t-test)\n",
    "\n",
    "**Homogeneity of Variance (Levene test)**"
   ]
  },
  {
   "cell_type": "code",
   "execution_count": 45,
   "metadata": {},
   "outputs": [
    {
     "name": "stdout",
     "output_type": "stream",
     "text": [
      "P-Value: 0.0002107523278057755\n",
      "Reject Null Hypothesis\n",
      "Non-homogenous Variance\n"
     ]
    }
   ],
   "source": [
    "Ho = \"Homogenous Variance\"\n",
    "Ha = \"Non-homogenous Variance\"\n",
    "alpha = 0.05\n",
    "\n",
    "test_stat, p_value = stats.levene(trip[\"osrm_distance\"], trip[\"segment_osrm_distance\"])\n",
    "\n",
    "show_test_result(Ho, Ha, p_value, alpha)"
   ]
  },
  {
   "cell_type": "markdown",
   "metadata": {},
   "source": [
    "Since Variance is non-homogenous, performing Welch's t-test (t-test with unequal variance)\n",
    "\n",
    "**Welch's t-tests (independent t-test with unequal variance)**"
   ]
  },
  {
   "cell_type": "code",
   "execution_count": 46,
   "metadata": {},
   "outputs": [
    {
     "name": "stdout",
     "output_type": "stream",
     "text": [
      "P-Value: 3.871902139799703e-05\n",
      "Reject Null Hypothesis\n",
      "There is a significance difference in mean osrm distance and mean segment osrm distance\n"
     ]
    }
   ],
   "source": [
    "Ho = \"There is no significance difference in mean osrm distance and mean segment osrm distance\"\n",
    "Ha = \"There is a significance difference in mean osrm distance and mean segment osrm distance\"\n",
    "alpha = 0.05\n",
    "\n",
    "test_stat, p_value = stats.ttest_ind(trip[\"osrm_distance\"], trip[\"segment_osrm_distance\"], equal_var=False)\n",
    "\n",
    "show_test_result(Ho, Ha, p_value, alpha)"
   ]
  },
  {
   "cell_type": "markdown",
   "metadata": {},
   "source": [
    "### 5. Hypothesis testing between `segment_osrm_time` and `osrm_time`"
   ]
  },
  {
   "cell_type": "markdown",
   "metadata": {},
   "source": [
    "- Since the dataset is very large so t-test are robust if these 2 columns violates normality.\n",
    "- Check variance between the dataset, to decide which type of t-test to perform. i.e, normal independent t-test or modified t-test (Welch's t-test)\n",
    "\n",
    "**Homogeneity of Variance (Levene test)**"
   ]
  },
  {
   "cell_type": "code",
   "execution_count": 47,
   "metadata": {},
   "outputs": [
    {
     "name": "stdout",
     "output_type": "stream",
     "text": [
      "P-Value: 8.434382972244705e-08\n",
      "Reject Null Hypothesis\n",
      "Non-homogenous Variance\n"
     ]
    }
   ],
   "source": [
    "Ho = \"Homogenous Variance\"\n",
    "Ha = \"Non-homogenous Variance\"\n",
    "alpha = 0.05\n",
    "\n",
    "test_stat, p_value = stats.levene(trip[\"segment_osrm_time\"], trip[\"osrm_time\"])\n",
    "\n",
    "show_test_result(Ho, Ha, p_value, alpha)"
   ]
  },
  {
   "cell_type": "markdown",
   "metadata": {},
   "source": [
    "Since Variance is non-homogenous, performing Welch's t-test (t-test with unequal variance)\n",
    "\n",
    "**Welch's t-tests (independent t-test with unequal variance)**"
   ]
  },
  {
   "cell_type": "code",
   "execution_count": 48,
   "metadata": {},
   "outputs": [
    {
     "name": "stdout",
     "output_type": "stream",
     "text": [
      "P-Value: 1.0123980274692105e-08\n",
      "Reject Null Hypothesis\n",
      "There is a significance difference in mean segment osrm time and mean osrm time\n"
     ]
    }
   ],
   "source": [
    "Ho = \"There is no significance difference in mean segment osrm time and mean osrm time\"\n",
    "Ha = \"There is a significance difference in mean segment osrm time and mean osrm time\"\n",
    "alpha = 0.05\n",
    "\n",
    "test_stat, p_value = stats.ttest_ind(trip[\"segment_osrm_time\"], trip[\"osrm_time\"], equal_var=False)\n",
    "\n",
    "show_test_result(Ho, Ha, p_value, alpha)"
   ]
  },
  {
   "cell_type": "markdown",
   "metadata": {},
   "source": [
    "## Finding and Handling Outliers"
   ]
  },
  {
   "cell_type": "code",
   "execution_count": 49,
   "metadata": {},
   "outputs": [
    {
     "data": {
      "image/png": "[encoded data removed]",
      "text/plain": [
       "<Figure size 2160x720 with 1 Axes>"
      ]
     },
     "metadata": {
      "needs_background": "light"
     },
     "output_type": "display_data"
    }
   ],
   "source": [
    "num_cols = ['start_scan_to_end_scan', 'trip_time_diff', 'actual_distance_to_destination', 'actual_time', 'osrm_time', 'osrm_distance', 'segment_actual_time', 'segment_osrm_time', 'segment_osrm_distance']\n",
    "trip[num_cols].boxplot(rot = 30, figsize=(30, 10))\n",
    "plt.show()"
   ]
  },
  {
   "cell_type": "code",
   "execution_count": 51,
   "metadata": {},
   "outputs": [],
   "source": [
    "q1 = trip[num_cols].quantile(0.25)\n",
    "q3 = trip[num_cols].quantile(0.75)\n",
    "\n",
    "iqr = q3-q1"
   ]
  },
  {
   "cell_type": "code",
   "execution_count": 52,
   "metadata": {},
   "outputs": [],
   "source": [
    "trip_wo_outlier = trip[(trip[num_cols] > q1 - 1.5*iqr) & (trip[num_cols] < q3 + 1.5*iqr)]"
   ]
  },
  {
   "cell_type": "code",
   "execution_count": 53,
   "metadata": {},
   "outputs": [
    {
     "data": {
      "image/png": "[encoded data removed]",
      "text/plain": [
       "<Figure size 2160x720 with 1 Axes>"
      ]
     },
     "metadata": {
      "needs_background": "light"
     },
     "output_type": "display_data"
    }
   ],
   "source": [
    "trip_wo_outlier[num_cols].boxplot(rot = 30, figsize=(30, 10))\n",
    "plt.show()"
   ]
  },
  {
   "cell_type": "markdown",
   "metadata": {},
   "source": [
    "# Insights, Summary and Recommendations"
   ]
  },
  {
   "cell_type": "code",
   "execution_count": null,
   "metadata": {},
   "outputs": [],
   "source": []
  }
 ],
 "metadata": {
  "kernelspec": {
   "display_name": "Python 3",
   "language": "python",
   "name": "python3"
  },
  "language_info": {
   "codemirror_mode": {
    "name": "ipython",
    "version": 3
   },
   "file_extension": ".py",
   "mimetype": "text/x-python",
   "name": "python",
   "nbconvert_exporter": "python",
   "pygments_lexer": "ipython3",
   "version": "3.8.8"
  }
 },
 "nbformat": 4,
 "nbformat_minor": 2
}
